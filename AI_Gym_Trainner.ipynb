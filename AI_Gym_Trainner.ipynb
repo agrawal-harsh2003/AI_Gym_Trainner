{
  "cells": [
    {
      "cell_type": "markdown",
      "metadata": {
        "id": "view-in-github",
        "colab_type": "text"
      },
      "source": [
        "<a href=\"https://colab.research.google.com/github/agrawal-harsh2003/AI_Gym_Trainner/blob/HPE/AI_Gym_Trainner.ipynb\" target=\"_parent\"><img src=\"https://colab.research.google.com/assets/colab-badge.svg\" alt=\"Open In Colab\"/></a>"
      ]
    },
    {
      "cell_type": "markdown",
      "metadata": {
        "id": "KVmaJR2vd9q8"
      },
      "source": [
        "Importing necessary libraries"
      ]
    },
    {
      "cell_type": "code",
      "execution_count": null,
      "metadata": {
        "id": "NWJlauZBd69C"
      },
      "outputs": [],
      "source": [
        "!pip install torch torchvision datasets transformers matplotlib\n",
        "import torch\n",
        "import torch.nn as nn\n",
        "import torchvision\n",
        "from torchvision import transforms\n",
        "from torch.utils.data import Dataset, DataLoader\n",
        "import numpy as np\n",
        "import matplotlib.pyplot as plt\n",
        "from datasets import load_dataset\n",
        "from tqdm import tqdm\n",
        "from transformers import ResNetConfig, ResNetModel, ResNetForImageClassification, AutoImageProcessor"
      ]
    },
    {
      "cell_type": "markdown",
      "metadata": {
        "id": "zwqDskxCB1nI"
      },
      "source": [
        "Import Coco-Wholebody dataset using Hugging Face API."
      ]
    },
    {
      "cell_type": "code",
      "execution_count": null,
      "metadata": {
        "id": "vs1PC7ROoRAD"
      },
      "outputs": [],
      "source": [
        "from datasets import load_dataset\n",
        "ds = load_dataset(\"harsh-7070/COCO-Wholebody-annotated\")\n",
        "print(ds['train'][0].keys())\n",
        "print(ds.keys())"
      ]
    },
    {
      "cell_type": "markdown",
      "source": [
        "Supporting code to find Num of Keypoints in the dataset."
      ],
      "metadata": {
        "id": "e43xFck-I-51"
      }
    },
    {
      "cell_type": "code",
      "execution_count": null,
      "metadata": {
        "id": "PEHLKFQ9ZHw5"
      },
      "outputs": [],
      "source": [
        "# def find_max_keypoints(dataset):\n",
        "#     max_keypoints = 0\n",
        "#     count = 0\n",
        "#     for item in dataset:\n",
        "#         keypoints = item['objects']['keypoints']  # Assuming the keypoints are in this field\n",
        "#         num_keypoints = len(keypoints)\n",
        "#         max_keypoints = max(max_keypoints, num_keypoints)\n",
        "#         count += 1\n",
        "#         if count % 1000 == 0:\n",
        "#             print(count)\n",
        "\n",
        "#     print(max_keypoints)\n",
        "\n",
        "# find_max_keypoints(ds['train'])"
      ]
    },
    {
      "cell_type": "markdown",
      "source": [
        "Custom functions to help normalize the Dataset."
      ],
      "metadata": {
        "id": "5d0bcAbyKXi6"
      }
    },
    {
      "cell_type": "code",
      "execution_count": null,
      "metadata": {
        "id": "yL8sOryKUooJ"
      },
      "outputs": [],
      "source": [
        "#data augmentation.\n",
        "data_transforms = transforms.Compose([\n",
        "    transforms.RandomHorizontalFlip(p=0.5),\n",
        "    transforms.RandomRotation(degrees=15),\n",
        "    transforms.ColorJitter(brightness=0.2, contrast=0.2, saturation=0.2, hue=0.1),\n",
        "    transforms.RandomResizedCrop(size=(224, 224), scale=(0.8, 1.0)),\n",
        "])\n",
        "\n",
        "#Padding the keypoints to create equal length across the annotation.\n",
        "def pad_keypoints(keypoints_tensor, target_length, padding_value=-1):\n",
        "    current_length = keypoints_tensor.shape[0]\n",
        "\n",
        "    if current_length < target_length:\n",
        "        padding_size = target_length - current_length\n",
        "        padding = torch.full((padding_size, 3), padding_value)\n",
        "        padded_keypoints = torch.cat((keypoints_tensor, padding), dim=0)\n",
        "    else:\n",
        "        padded_keypoints = keypoints_tensor\n",
        "    return padded_keypoints\n",
        "\n",
        "def custom_collate_fn(batch):\n",
        "    pixel_values_list = [item[0] for item in batch]\n",
        "    keypoints_list = [item[1] for item in batch]\n",
        "\n",
        "    pixel_values_padded = torch.stack(pixel_values_list, dim=0)\n",
        "    keypoints_padded = torch.nn.utils.rnn.pad_sequence(keypoints_list, batch_first=True, padding_value=-1)\n",
        "\n",
        "    return pixel_values_padded, keypoints_padded"
      ]
    },
    {
      "cell_type": "markdown",
      "source": [
        "Custom Dataset Class."
      ],
      "metadata": {
        "id": "NoCHNS-KKNdC"
      }
    },
    {
      "cell_type": "code",
      "execution_count": null,
      "metadata": {
        "id": "edUXkvK0k_JC"
      },
      "outputs": [],
      "source": [
        "class COCOWholeBodyDataset(Dataset):\n",
        "    def __init__(self, data, transform=None):\n",
        "        self.data = data\n",
        "        self.transform = transform\n",
        "        self.image_processor = AutoImageProcessor.from_pretrained(\"microsoft/resnet-50\")\n",
        "\n",
        "    def __len__(self):\n",
        "        return len(self.data)\n",
        "\n",
        "    def __getitem__(self, idx):\n",
        "        item = self.data[idx]\n",
        "\n",
        "        image = item['image']\n",
        "        if image.mode != 'RGB':\n",
        "            image = image.convert('RGB')\n",
        "        keypoints = item['objects']['keypoints']\n",
        "        keypoints_tensor = torch.tensor(keypoints, dtype=torch.float32).view(-1, 3)\n",
        "\n",
        "        #Pad the keypoints tensor\n",
        "        # keypoints_tensor = pad_keypoints(keypoints_tensor, 20)\n",
        "        keypoints_tensor = pad_keypoints(keypoints_tensor, 2660)\n",
        "\n",
        "        # Process the image using the image processor\n",
        "        inputs = self.image_processor(images=image, return_tensors=\"pt\")\n",
        "        pixel_values = inputs['pixel_values'].squeeze()\n",
        "\n",
        "        if self.transform:\n",
        "            pixel_values = self.transform(pixel_values)\n",
        "\n",
        "        return pixel_values, keypoints_tensor\n",
        "\n",
        "# Hyperparameters\n",
        "num_epochs = 15\n",
        "batch_size = 512\n",
        "learning_rate = 0.001\n",
        "num_keypoints = 2660 #20*133 (20 = max no. of annotation merged as one after pre-processing the .jsonl before uploadin to COCO Hub)"
      ]
    },
    {
      "cell_type": "markdown",
      "source": [
        "Dataset creation using pre-existing split and data loader."
      ],
      "metadata": {
        "id": "rU-87vCHKuIa"
      }
    },
    {
      "cell_type": "code",
      "execution_count": null,
      "metadata": {
        "id": "CWl6vM_rjg6M"
      },
      "outputs": [],
      "source": [
        "train_dataset = COCOWholeBodyDataset(ds['train'], transform=data_transforms)\n",
        "val_dataset = COCOWholeBodyDataset(ds['validation'])\n",
        "\n",
        "#data loaders with collate function\n",
        "train_loader = DataLoader(train_dataset, batch_size=batch_size, shuffle=True, collate_fn=custom_collate_fn)\n",
        "val_loader = DataLoader(val_dataset, batch_size=batch_size, collate_fn=custom_collate_fn)"
      ]
    },
    {
      "cell_type": "markdown",
      "metadata": {
        "id": "XaS7SjJ3pvJ5"
      },
      "source": [
        "Model Initialization and Configuration leveraging Pre-Trained model from Hugging Face Hub."
      ]
    },
    {
      "cell_type": "code",
      "execution_count": null,
      "metadata": {
        "id": "Vv4diU6p3mXY",
        "colab": {
          "base_uri": "https://localhost:8080/"
        },
        "outputId": "10d0230e-3deb-4eaa-e618-24073551cb7e"
      },
      "outputs": [
        {
          "output_type": "stream",
          "name": "stderr",
          "text": [
            "/usr/local/lib/python3.10/dist-packages/torchvision/models/_utils.py:208: UserWarning: The parameter 'pretrained' is deprecated since 0.13 and may be removed in the future, please use 'weights' instead.\n",
            "  warnings.warn(\n",
            "/usr/local/lib/python3.10/dist-packages/torchvision/models/_utils.py:223: UserWarning: Arguments other than a weight enum or `None` for 'weights' are deprecated since 0.13 and may be removed in the future. The current behavior is equivalent to passing `weights=ResNet50_Weights.IMAGENET1K_V1`. You can also use `weights=ResNet50_Weights.DEFAULT` to get the most up-to-date weights.\n",
            "  warnings.warn(msg)\n"
          ]
        }
      ],
      "source": [
        "class ResNetForImageClassification(nn.Module):\n",
        "    def __init__(self, config):\n",
        "        super(ResNetForImageClassification, self).__init__()\n",
        "        self.config = config\n",
        "        self.resnet_backbone = torchvision.models.resnet50(pretrained=True)\n",
        "        self.resnet_backbone.fc = nn.Identity()\n",
        "        self.classifier = nn.Sequential(\n",
        "            nn.Linear(2048, 2048),\n",
        "            nn.ReLU(),\n",
        "            nn.Linear(2048, num_keypoints * 2)\n",
        "        )\n",
        "\n",
        "    def forward(self, x):\n",
        "        x = self.resnet_backbone(x)\n",
        "\n",
        "        if len(x.shape) == 4:\n",
        "            x = nn.functional.adaptive_avg_pool2d(x, (1, 1))\n",
        "        elif len(x.shape) == 2:\n",
        "            x = x.flatten(1)\n",
        "        else:\n",
        "            raise ValueError(f\"Unexpected tensor shape: {x.shape}\")\n",
        "\n",
        "        x = torch.flatten(x, 1)\n",
        "        x = self.classifier(x)\n",
        "        return x\n",
        "\n",
        "config = ResNetConfig(\n",
        "    num_channels=3,\n",
        "    embedding_size=64,\n",
        "    hidden_sizes=[256, 512, 1024, 2048],\n",
        "    depths=[3, 4, 6, 3],\n",
        "    layer_type=\"bottleneck\",\n",
        "    hidden_act=\"relu\",\n",
        "    num_labels = num_keypoints * 2\n",
        ")\n",
        "\n",
        "device = torch.device('cuda' if torch.cuda.is_available() else 'cpu')\n",
        "model = ResNetForImageClassification(config).to(device)"
      ]
    },
    {
      "cell_type": "code",
      "execution_count": null,
      "metadata": {
        "colab": {
          "base_uri": "https://localhost:8080/"
        },
        "id": "Gd3kAv3gfQ2y",
        "outputId": "6fc70abc-1527-4008-a737-055ffaedc2bb"
      },
      "outputs": [
        {
          "output_type": "stream",
          "name": "stdout",
          "text": [
            "torch.Size([32, 3, 224, 224])\n",
            "torch.Size([32, 2660, 3])\n",
            "torch.Size([32, 5320])\n"
          ]
        }
      ],
      "source": [
        "# for images, keypoints in train_loader:\n",
        "#     images = images.to(device)\n",
        "#     keypoints = keypoints.to(device)\n",
        "#     print(images.shape)\n",
        "#     print(keypoints.shape)\n",
        "#     output = model(images)\n",
        "#     print(output.shape)\n",
        "#     break\n",
        "# torch.Size([32, 3, 224, 224])\n",
        "# torch.Size([32, 238, 3])\n",
        "# torch.Size([32, 476])"
      ]
    },
    {
      "cell_type": "markdown",
      "metadata": {
        "id": "BLWQtdL5uGmU"
      },
      "source": [
        "Model Training"
      ]
    },
    {
      "cell_type": "code",
      "execution_count": null,
      "metadata": {
        "colab": {
          "base_uri": "https://localhost:8080/"
        },
        "id": "utjqy8lACxls",
        "outputId": "17c6bc14-f08b-49c5-8997-22e0e505d510"
      },
      "outputs": [
        {
          "output_type": "stream",
          "name": "stderr",
          "text": [
            "\r  0%|          | 0/3697 [00:00<?, ?it/s]"
          ]
        },
        {
          "output_type": "stream",
          "name": "stdout",
          "text": [
            "torch.Size([32, 2660, 2]) \n",
            "\n",
            "torch.Size([32, 5320])\n",
            "torch.Size([32, 5320])\n"
          ]
        },
        {
          "output_type": "stream",
          "name": "stderr",
          "text": [
            "\r  0%|          | 1/3697 [00:34<35:15:09, 34.34s/it]"
          ]
        },
        {
          "output_type": "stream",
          "name": "stdout",
          "text": [
            "torch.Size([32, 2660, 2]) \n",
            "\n",
            "torch.Size([32, 5320])\n",
            "torch.Size([32, 5320])\n"
          ]
        },
        {
          "output_type": "stream",
          "name": "stderr",
          "text": [
            "\r  0%|          | 2/3697 [00:57<28:39:15, 27.92s/it]"
          ]
        },
        {
          "output_type": "stream",
          "name": "stdout",
          "text": [
            "torch.Size([32, 2660, 2]) \n",
            "\n",
            "torch.Size([32, 5320])\n",
            "torch.Size([32, 5320])\n"
          ]
        },
        {
          "output_type": "stream",
          "name": "stderr",
          "text": [
            "\r  0%|          | 3/3697 [01:24<28:09:38, 27.44s/it]"
          ]
        },
        {
          "output_type": "stream",
          "name": "stdout",
          "text": [
            "torch.Size([32, 2660, 2]) \n",
            "\n",
            "torch.Size([32, 5320])\n",
            "torch.Size([32, 5320])\n"
          ]
        },
        {
          "output_type": "stream",
          "name": "stderr",
          "text": [
            "\r  0%|          | 4/3697 [01:46<26:03:26, 25.40s/it]"
          ]
        },
        {
          "output_type": "stream",
          "name": "stdout",
          "text": [
            "torch.Size([32, 2660, 2]) \n",
            "\n",
            "torch.Size([32, 5320])\n",
            "torch.Size([32, 5320])\n"
          ]
        },
        {
          "output_type": "stream",
          "name": "stderr",
          "text": [
            "\r  0%|          | 5/3697 [02:08<24:36:33, 24.00s/it]"
          ]
        },
        {
          "output_type": "stream",
          "name": "stdout",
          "text": [
            "torch.Size([32, 2660, 2]) \n",
            "\n",
            "torch.Size([32, 5320])\n",
            "torch.Size([32, 5320])\n"
          ]
        },
        {
          "output_type": "stream",
          "name": "stderr",
          "text": [
            "\r  0%|          | 6/3697 [02:31<24:08:26, 23.55s/it]"
          ]
        },
        {
          "output_type": "stream",
          "name": "stdout",
          "text": [
            "torch.Size([32, 2660, 2]) \n",
            "\n",
            "torch.Size([32, 5320])\n",
            "torch.Size([32, 5320])\n"
          ]
        },
        {
          "output_type": "stream",
          "name": "stderr",
          "text": [
            "\r  0%|          | 7/3697 [02:52<23:30:09, 22.93s/it]"
          ]
        },
        {
          "output_type": "stream",
          "name": "stdout",
          "text": [
            "torch.Size([32, 2660, 2]) \n",
            "\n",
            "torch.Size([32, 5320])\n",
            "torch.Size([32, 5320])\n"
          ]
        },
        {
          "output_type": "stream",
          "name": "stderr",
          "text": [
            "\r  0%|          | 8/3697 [03:13<22:46:56, 22.23s/it]"
          ]
        },
        {
          "output_type": "stream",
          "name": "stdout",
          "text": [
            "torch.Size([32, 2660, 2]) \n",
            "\n",
            "torch.Size([32, 5320])\n",
            "torch.Size([32, 5320])\n"
          ]
        },
        {
          "output_type": "stream",
          "name": "stderr",
          "text": [
            "\r  0%|          | 9/3697 [03:35<22:46:20, 22.23s/it]"
          ]
        },
        {
          "output_type": "stream",
          "name": "stdout",
          "text": [
            "torch.Size([32, 2660, 2]) \n",
            "\n",
            "torch.Size([32, 5320])\n",
            "torch.Size([32, 5320])\n"
          ]
        },
        {
          "output_type": "stream",
          "name": "stderr",
          "text": [
            "\r  0%|          | 10/3697 [03:57<22:31:49, 22.00s/it]"
          ]
        },
        {
          "output_type": "stream",
          "name": "stdout",
          "text": [
            "torch.Size([32, 2660, 2]) \n",
            "\n",
            "torch.Size([32, 5320])\n",
            "torch.Size([32, 5320])\n"
          ]
        },
        {
          "output_type": "stream",
          "name": "stderr",
          "text": [
            "\r  0%|          | 11/3697 [04:18<22:27:31, 21.93s/it]"
          ]
        },
        {
          "output_type": "stream",
          "name": "stdout",
          "text": [
            "torch.Size([32, 2660, 2]) \n",
            "\n",
            "torch.Size([32, 5320])\n",
            "torch.Size([32, 5320])\n"
          ]
        },
        {
          "output_type": "stream",
          "name": "stderr",
          "text": [
            "\r  0%|          | 12/3697 [04:42<22:53:33, 22.36s/it]"
          ]
        },
        {
          "output_type": "stream",
          "name": "stdout",
          "text": [
            "torch.Size([32, 2660, 2]) \n",
            "\n",
            "torch.Size([32, 5320])\n",
            "torch.Size([32, 5320])\n"
          ]
        },
        {
          "output_type": "stream",
          "name": "stderr",
          "text": [
            "\r  0%|          | 13/3697 [05:03<22:27:15, 21.94s/it]"
          ]
        },
        {
          "output_type": "stream",
          "name": "stdout",
          "text": [
            "torch.Size([32, 2660, 2]) \n",
            "\n",
            "torch.Size([32, 5320])\n",
            "torch.Size([32, 5320])\n"
          ]
        },
        {
          "output_type": "stream",
          "name": "stderr",
          "text": [
            "\r  0%|          | 14/3697 [05:25<22:29:21, 21.98s/it]"
          ]
        },
        {
          "output_type": "stream",
          "name": "stdout",
          "text": [
            "torch.Size([32, 2660, 2]) \n",
            "\n",
            "torch.Size([32, 5320])\n",
            "torch.Size([32, 5320])\n"
          ]
        },
        {
          "output_type": "stream",
          "name": "stderr",
          "text": [
            "\r  0%|          | 15/3697 [05:45<21:58:25, 21.48s/it]"
          ]
        },
        {
          "output_type": "stream",
          "name": "stdout",
          "text": [
            "torch.Size([32, 2660, 2]) \n",
            "\n",
            "torch.Size([32, 5320])\n",
            "torch.Size([32, 5320])\n"
          ]
        },
        {
          "output_type": "stream",
          "name": "stderr",
          "text": [
            "\r  0%|          | 16/3697 [06:07<21:58:23, 21.49s/it]"
          ]
        },
        {
          "output_type": "stream",
          "name": "stdout",
          "text": [
            "torch.Size([32, 2660, 2]) \n",
            "\n",
            "torch.Size([32, 5320])\n",
            "torch.Size([32, 5320])\n"
          ]
        },
        {
          "output_type": "stream",
          "name": "stderr",
          "text": [
            "\r  0%|          | 17/3697 [06:28<21:45:23, 21.28s/it]"
          ]
        },
        {
          "output_type": "stream",
          "name": "stdout",
          "text": [
            "torch.Size([32, 2660, 2]) \n",
            "\n",
            "torch.Size([32, 5320])\n",
            "torch.Size([32, 5320])\n"
          ]
        },
        {
          "output_type": "stream",
          "name": "stderr",
          "text": [
            "\r  0%|          | 18/3697 [06:49<21:53:22, 21.42s/it]"
          ]
        },
        {
          "output_type": "stream",
          "name": "stdout",
          "text": [
            "torch.Size([32, 2660, 2]) \n",
            "\n",
            "torch.Size([32, 5320])\n",
            "torch.Size([32, 5320])\n"
          ]
        },
        {
          "output_type": "stream",
          "name": "stderr",
          "text": [
            "\r  1%|          | 19/3697 [07:10<21:47:49, 21.33s/it]"
          ]
        },
        {
          "output_type": "stream",
          "name": "stdout",
          "text": [
            "torch.Size([32, 2660, 2]) \n",
            "\n",
            "torch.Size([32, 5320])\n",
            "torch.Size([32, 5320])\n"
          ]
        },
        {
          "output_type": "stream",
          "name": "stderr",
          "text": [
            "\r  1%|          | 20/3697 [07:32<21:53:42, 21.44s/it]"
          ]
        },
        {
          "output_type": "stream",
          "name": "stdout",
          "text": [
            "torch.Size([32, 2660, 2]) \n",
            "\n",
            "torch.Size([32, 5320])\n",
            "torch.Size([32, 5320])\n"
          ]
        },
        {
          "output_type": "stream",
          "name": "stderr",
          "text": [
            "\r  1%|          | 21/3697 [07:54<21:55:16, 21.47s/it]"
          ]
        },
        {
          "output_type": "stream",
          "name": "stdout",
          "text": [
            "torch.Size([32, 2660, 2]) \n",
            "\n",
            "torch.Size([32, 5320])\n",
            "torch.Size([32, 5320])\n"
          ]
        },
        {
          "output_type": "stream",
          "name": "stderr",
          "text": [
            "\r  1%|          | 22/3697 [08:15<21:56:15, 21.49s/it]"
          ]
        },
        {
          "output_type": "stream",
          "name": "stdout",
          "text": [
            "torch.Size([32, 2660, 2]) \n",
            "\n",
            "torch.Size([32, 5320])\n",
            "torch.Size([32, 5320])\n"
          ]
        },
        {
          "output_type": "stream",
          "name": "stderr",
          "text": [
            "\r  1%|          | 23/3697 [08:37<21:56:22, 21.50s/it]"
          ]
        },
        {
          "output_type": "stream",
          "name": "stdout",
          "text": [
            "torch.Size([32, 2660, 2]) \n",
            "\n",
            "torch.Size([32, 5320])\n",
            "torch.Size([32, 5320])\n"
          ]
        },
        {
          "output_type": "stream",
          "name": "stderr",
          "text": [
            "\r  1%|          | 24/3697 [08:57<21:38:53, 21.22s/it]"
          ]
        },
        {
          "output_type": "stream",
          "name": "stdout",
          "text": [
            "torch.Size([32, 2660, 2]) \n",
            "\n",
            "torch.Size([32, 5320])\n",
            "torch.Size([32, 5320])\n"
          ]
        },
        {
          "output_type": "stream",
          "name": "stderr",
          "text": [
            "\r  1%|          | 25/3697 [09:20<22:03:17, 21.62s/it]"
          ]
        },
        {
          "output_type": "stream",
          "name": "stdout",
          "text": [
            "torch.Size([32, 2660, 2]) \n",
            "\n",
            "torch.Size([32, 5320])\n",
            "torch.Size([32, 5320])\n"
          ]
        },
        {
          "output_type": "stream",
          "name": "stderr",
          "text": [
            "\r  1%|          | 26/3697 [09:40<21:44:40, 21.32s/it]"
          ]
        },
        {
          "output_type": "stream",
          "name": "stdout",
          "text": [
            "torch.Size([32, 2660, 2]) \n",
            "\n",
            "torch.Size([32, 5320])\n",
            "torch.Size([32, 5320])\n"
          ]
        },
        {
          "output_type": "stream",
          "name": "stderr",
          "text": [
            "\r  1%|          | 27/3697 [10:02<21:54:04, 21.48s/it]"
          ]
        },
        {
          "output_type": "stream",
          "name": "stdout",
          "text": [
            "torch.Size([32, 2660, 2]) \n",
            "\n",
            "torch.Size([32, 5320])\n",
            "torch.Size([32, 5320])\n"
          ]
        },
        {
          "output_type": "stream",
          "name": "stderr",
          "text": [
            "\r  1%|          | 28/3697 [10:28<23:17:21, 22.85s/it]"
          ]
        },
        {
          "output_type": "stream",
          "name": "stdout",
          "text": [
            "torch.Size([32, 2660, 2]) \n",
            "\n",
            "torch.Size([32, 5320])\n",
            "torch.Size([32, 5320])\n"
          ]
        },
        {
          "output_type": "stream",
          "name": "stderr",
          "text": [
            "\r  1%|          | 29/3697 [10:49<22:32:43, 22.13s/it]"
          ]
        },
        {
          "output_type": "stream",
          "name": "stdout",
          "text": [
            "torch.Size([32, 2660, 2]) \n",
            "\n",
            "torch.Size([32, 5320])\n",
            "torch.Size([32, 5320])\n"
          ]
        },
        {
          "output_type": "stream",
          "name": "stderr",
          "text": [
            "\r  1%|          | 30/3697 [11:10<22:23:47, 21.99s/it]"
          ]
        },
        {
          "output_type": "stream",
          "name": "stdout",
          "text": [
            "torch.Size([32, 2660, 2]) \n",
            "\n",
            "torch.Size([32, 5320])\n",
            "torch.Size([32, 5320])\n"
          ]
        },
        {
          "output_type": "stream",
          "name": "stderr",
          "text": [
            "\r  1%|          | 31/3697 [11:32<22:11:20, 21.79s/it]"
          ]
        },
        {
          "output_type": "stream",
          "name": "stdout",
          "text": [
            "torch.Size([32, 2660, 2]) \n",
            "\n",
            "torch.Size([32, 5320])\n",
            "torch.Size([32, 5320])\n"
          ]
        },
        {
          "output_type": "stream",
          "name": "stderr",
          "text": [
            "\r  1%|          | 32/3697 [11:54<22:25:27, 22.03s/it]"
          ]
        },
        {
          "output_type": "stream",
          "name": "stdout",
          "text": [
            "torch.Size([32, 2660, 2]) \n",
            "\n",
            "torch.Size([32, 5320])\n",
            "torch.Size([32, 5320])\n"
          ]
        },
        {
          "output_type": "stream",
          "name": "stderr",
          "text": [
            "\r  1%|          | 33/3697 [12:16<22:21:14, 21.96s/it]"
          ]
        },
        {
          "output_type": "stream",
          "name": "stdout",
          "text": [
            "torch.Size([32, 2660, 2]) \n",
            "\n",
            "torch.Size([32, 5320])\n",
            "torch.Size([32, 5320])\n"
          ]
        },
        {
          "output_type": "stream",
          "name": "stderr",
          "text": [
            "\r  1%|          | 34/3697 [12:37<22:03:11, 21.67s/it]"
          ]
        },
        {
          "output_type": "stream",
          "name": "stdout",
          "text": [
            "torch.Size([32, 2660, 2]) \n",
            "\n",
            "torch.Size([32, 5320])\n",
            "torch.Size([32, 5320])\n"
          ]
        },
        {
          "output_type": "stream",
          "name": "stderr",
          "text": [
            "\r  1%|          | 35/3697 [12:59<22:10:42, 21.80s/it]"
          ]
        },
        {
          "output_type": "stream",
          "name": "stdout",
          "text": [
            "torch.Size([32, 2660, 2]) \n",
            "\n",
            "torch.Size([32, 5320])\n",
            "torch.Size([32, 5320])\n"
          ]
        },
        {
          "output_type": "stream",
          "name": "stderr",
          "text": [
            "\r  1%|          | 36/3697 [13:19<21:42:00, 21.34s/it]"
          ]
        },
        {
          "output_type": "stream",
          "name": "stdout",
          "text": [
            "torch.Size([32, 2660, 2]) \n",
            "\n",
            "torch.Size([32, 5320])\n",
            "torch.Size([32, 5320])\n"
          ]
        },
        {
          "output_type": "stream",
          "name": "stderr",
          "text": [
            "\r  1%|          | 37/3697 [13:41<21:42:16, 21.35s/it]"
          ]
        },
        {
          "output_type": "stream",
          "name": "stdout",
          "text": [
            "torch.Size([32, 2660, 2]) \n",
            "\n",
            "torch.Size([32, 5320])\n",
            "torch.Size([32, 5320])\n"
          ]
        },
        {
          "output_type": "stream",
          "name": "stderr",
          "text": [
            "\r  1%|          | 38/3697 [14:03<21:49:52, 21.48s/it]"
          ]
        },
        {
          "output_type": "stream",
          "name": "stdout",
          "text": [
            "torch.Size([32, 2660, 2]) \n",
            "\n",
            "torch.Size([32, 5320])\n",
            "torch.Size([32, 5320])\n"
          ]
        },
        {
          "output_type": "stream",
          "name": "stderr",
          "text": [
            "\r  1%|          | 39/3697 [14:25<22:00:06, 21.65s/it]"
          ]
        },
        {
          "output_type": "stream",
          "name": "stdout",
          "text": [
            "torch.Size([32, 2660, 2]) \n",
            "\n",
            "torch.Size([32, 5320])\n",
            "torch.Size([32, 5320])\n"
          ]
        },
        {
          "output_type": "stream",
          "name": "stderr",
          "text": [
            "\r  1%|          | 40/3697 [14:47<22:03:00, 21.71s/it]"
          ]
        },
        {
          "output_type": "stream",
          "name": "stdout",
          "text": [
            "torch.Size([32, 2660, 2]) \n",
            "\n",
            "torch.Size([32, 5320])\n",
            "torch.Size([32, 5320])\n"
          ]
        },
        {
          "output_type": "stream",
          "name": "stderr",
          "text": [
            "\r  1%|          | 41/3697 [15:08<22:01:21, 21.69s/it]"
          ]
        },
        {
          "output_type": "stream",
          "name": "stdout",
          "text": [
            "torch.Size([32, 2660, 2]) \n",
            "\n",
            "torch.Size([32, 5320])\n",
            "torch.Size([32, 5320])\n"
          ]
        },
        {
          "output_type": "stream",
          "name": "stderr",
          "text": [
            "\r  1%|          | 42/3697 [15:31<22:18:16, 21.97s/it]"
          ]
        },
        {
          "output_type": "stream",
          "name": "stdout",
          "text": [
            "torch.Size([32, 2660, 2]) \n",
            "\n",
            "torch.Size([32, 5320])\n",
            "torch.Size([32, 5320])\n"
          ]
        },
        {
          "output_type": "stream",
          "name": "stderr",
          "text": [
            "\r  1%|          | 43/3697 [15:53<22:18:49, 21.98s/it]"
          ]
        },
        {
          "output_type": "stream",
          "name": "stdout",
          "text": [
            "torch.Size([32, 2660, 2]) \n",
            "\n",
            "torch.Size([32, 5320])\n",
            "torch.Size([32, 5320])\n"
          ]
        },
        {
          "output_type": "stream",
          "name": "stderr",
          "text": [
            "\r  1%|          | 44/3697 [16:15<22:22:36, 22.05s/it]"
          ]
        },
        {
          "output_type": "stream",
          "name": "stdout",
          "text": [
            "torch.Size([32, 2660, 2]) \n",
            "\n",
            "torch.Size([32, 5320])\n",
            "torch.Size([32, 5320])\n"
          ]
        },
        {
          "output_type": "stream",
          "name": "stderr",
          "text": [
            "\r  1%|          | 45/3697 [16:36<22:07:10, 21.80s/it]"
          ]
        },
        {
          "output_type": "stream",
          "name": "stdout",
          "text": [
            "torch.Size([32, 2660, 2]) \n",
            "\n",
            "torch.Size([32, 5320])\n",
            "torch.Size([32, 5320])\n"
          ]
        },
        {
          "output_type": "stream",
          "name": "stderr",
          "text": [
            "\r  1%|          | 46/3697 [16:57<21:54:16, 21.60s/it]"
          ]
        },
        {
          "output_type": "stream",
          "name": "stdout",
          "text": [
            "torch.Size([32, 2660, 2]) \n",
            "\n",
            "torch.Size([32, 5320])\n",
            "torch.Size([32, 5320])\n"
          ]
        },
        {
          "output_type": "stream",
          "name": "stderr",
          "text": [
            "\r  1%|▏         | 47/3697 [17:20<22:06:35, 21.81s/it]"
          ]
        },
        {
          "output_type": "stream",
          "name": "stdout",
          "text": [
            "torch.Size([32, 2660, 2]) \n",
            "\n",
            "torch.Size([32, 5320])\n",
            "torch.Size([32, 5320])\n"
          ]
        },
        {
          "output_type": "stream",
          "name": "stderr",
          "text": [
            "\r  1%|▏         | 48/3697 [17:41<21:55:32, 21.63s/it]"
          ]
        },
        {
          "output_type": "stream",
          "name": "stdout",
          "text": [
            "torch.Size([32, 2660, 2]) \n",
            "\n",
            "torch.Size([32, 5320])\n",
            "torch.Size([32, 5320])\n"
          ]
        },
        {
          "output_type": "stream",
          "name": "stderr",
          "text": [
            "\r  1%|▏         | 49/3697 [18:03<22:10:27, 21.88s/it]"
          ]
        },
        {
          "output_type": "stream",
          "name": "stdout",
          "text": [
            "torch.Size([32, 2660, 2]) \n",
            "\n",
            "torch.Size([32, 5320])\n",
            "torch.Size([32, 5320])\n"
          ]
        },
        {
          "output_type": "stream",
          "name": "stderr",
          "text": [
            "\r  1%|▏         | 50/3697 [18:24<21:47:48, 21.52s/it]"
          ]
        },
        {
          "output_type": "stream",
          "name": "stdout",
          "text": [
            "torch.Size([32, 2660, 2]) \n",
            "\n",
            "torch.Size([32, 5320])\n",
            "torch.Size([32, 5320])\n"
          ]
        },
        {
          "output_type": "stream",
          "name": "stderr",
          "text": [
            "\r  1%|▏         | 51/3697 [18:45<21:41:43, 21.42s/it]"
          ]
        },
        {
          "output_type": "stream",
          "name": "stdout",
          "text": [
            "torch.Size([32, 2660, 2]) \n",
            "\n",
            "torch.Size([32, 5320])\n",
            "torch.Size([32, 5320])\n"
          ]
        },
        {
          "output_type": "stream",
          "name": "stderr",
          "text": [
            "\r  1%|▏         | 52/3697 [19:07<21:48:34, 21.54s/it]"
          ]
        },
        {
          "output_type": "stream",
          "name": "stdout",
          "text": [
            "torch.Size([32, 2660, 2]) \n",
            "\n",
            "torch.Size([32, 5320])\n",
            "torch.Size([32, 5320])\n"
          ]
        },
        {
          "output_type": "stream",
          "name": "stderr",
          "text": [
            "\r  1%|▏         | 53/3697 [19:28<21:44:47, 21.48s/it]"
          ]
        },
        {
          "output_type": "stream",
          "name": "stdout",
          "text": [
            "torch.Size([32, 2660, 2]) \n",
            "\n",
            "torch.Size([32, 5320])\n",
            "torch.Size([32, 5320])\n"
          ]
        },
        {
          "output_type": "stream",
          "name": "stderr",
          "text": [
            "\r  1%|▏         | 54/3697 [19:50<21:43:02, 21.46s/it]"
          ]
        },
        {
          "output_type": "stream",
          "name": "stdout",
          "text": [
            "torch.Size([32, 2660, 2]) \n",
            "\n",
            "torch.Size([32, 5320])\n",
            "torch.Size([32, 5320])\n"
          ]
        },
        {
          "output_type": "stream",
          "name": "stderr",
          "text": [
            "\r  1%|▏         | 55/3697 [20:10<21:24:26, 21.16s/it]"
          ]
        },
        {
          "output_type": "stream",
          "name": "stdout",
          "text": [
            "torch.Size([32, 2660, 2]) \n",
            "\n",
            "torch.Size([32, 5320])\n",
            "torch.Size([32, 5320])\n"
          ]
        },
        {
          "output_type": "stream",
          "name": "stderr",
          "text": [
            "\r  2%|▏         | 56/3697 [20:38<23:17:38, 23.03s/it]"
          ]
        },
        {
          "output_type": "stream",
          "name": "stdout",
          "text": [
            "torch.Size([32, 2660, 2]) \n",
            "\n",
            "torch.Size([32, 5320])\n",
            "torch.Size([32, 5320])\n"
          ]
        },
        {
          "output_type": "stream",
          "name": "stderr",
          "text": [
            "\r  2%|▏         | 57/3697 [20:59<22:53:13, 22.64s/it]"
          ]
        },
        {
          "output_type": "stream",
          "name": "stdout",
          "text": [
            "torch.Size([32, 2660, 2]) \n",
            "\n",
            "torch.Size([32, 5320])\n",
            "torch.Size([32, 5320])\n"
          ]
        },
        {
          "output_type": "stream",
          "name": "stderr",
          "text": [
            "\r  2%|▏         | 58/3697 [21:21<22:27:02, 22.21s/it]"
          ]
        },
        {
          "output_type": "stream",
          "name": "stdout",
          "text": [
            "torch.Size([32, 2660, 2]) \n",
            "\n",
            "torch.Size([32, 5320])\n",
            "torch.Size([32, 5320])\n"
          ]
        },
        {
          "output_type": "stream",
          "name": "stderr",
          "text": [
            "\r  2%|▏         | 59/3697 [21:42<22:13:26, 21.99s/it]"
          ]
        },
        {
          "output_type": "stream",
          "name": "stdout",
          "text": [
            "torch.Size([32, 2660, 2]) \n",
            "\n",
            "torch.Size([32, 5320])\n",
            "torch.Size([32, 5320])\n"
          ]
        },
        {
          "output_type": "stream",
          "name": "stderr",
          "text": [
            "\r  2%|▏         | 60/3697 [22:03<21:45:36, 21.54s/it]"
          ]
        },
        {
          "output_type": "stream",
          "name": "stdout",
          "text": [
            "torch.Size([32, 2660, 2]) \n",
            "\n",
            "torch.Size([32, 5320])\n",
            "torch.Size([32, 5320])\n"
          ]
        },
        {
          "output_type": "stream",
          "name": "stderr",
          "text": [
            "\r  2%|▏         | 61/3697 [22:24<21:41:10, 21.47s/it]"
          ]
        },
        {
          "output_type": "stream",
          "name": "stdout",
          "text": [
            "torch.Size([32, 2660, 2]) \n",
            "\n",
            "torch.Size([32, 5320])\n",
            "torch.Size([32, 5320])\n"
          ]
        },
        {
          "output_type": "stream",
          "name": "stderr",
          "text": [
            "\r  2%|▏         | 62/3697 [22:44<21:22:41, 21.17s/it]"
          ]
        },
        {
          "output_type": "stream",
          "name": "stdout",
          "text": [
            "torch.Size([32, 2660, 2]) \n",
            "\n",
            "torch.Size([32, 5320])\n",
            "torch.Size([32, 5320])\n"
          ]
        },
        {
          "output_type": "stream",
          "name": "stderr",
          "text": [
            "\r  2%|▏         | 63/3697 [23:06<21:30:20, 21.30s/it]"
          ]
        },
        {
          "output_type": "stream",
          "name": "stdout",
          "text": [
            "torch.Size([32, 2660, 2]) \n",
            "\n",
            "torch.Size([32, 5320])\n",
            "torch.Size([32, 5320])\n"
          ]
        },
        {
          "output_type": "stream",
          "name": "stderr",
          "text": [
            "\r  2%|▏         | 64/3697 [23:27<21:23:52, 21.20s/it]"
          ]
        },
        {
          "output_type": "stream",
          "name": "stdout",
          "text": [
            "torch.Size([32, 2660, 2]) \n",
            "\n",
            "torch.Size([32, 5320])\n",
            "torch.Size([32, 5320])\n"
          ]
        },
        {
          "output_type": "stream",
          "name": "stderr",
          "text": [
            "\r  2%|▏         | 65/3697 [23:49<21:32:05, 21.35s/it]"
          ]
        },
        {
          "output_type": "stream",
          "name": "stdout",
          "text": [
            "torch.Size([32, 2660, 2]) \n",
            "\n",
            "torch.Size([32, 5320])\n",
            "torch.Size([32, 5320])\n"
          ]
        },
        {
          "output_type": "stream",
          "name": "stderr",
          "text": [
            "\r  2%|▏         | 66/3697 [24:11<21:46:27, 21.59s/it]"
          ]
        },
        {
          "output_type": "stream",
          "name": "stdout",
          "text": [
            "torch.Size([32, 2660, 2]) \n",
            "\n",
            "torch.Size([32, 5320])\n",
            "torch.Size([32, 5320])\n"
          ]
        },
        {
          "output_type": "stream",
          "name": "stderr",
          "text": [
            "\r  2%|▏         | 67/3697 [24:31<21:30:40, 21.33s/it]"
          ]
        },
        {
          "output_type": "stream",
          "name": "stdout",
          "text": [
            "torch.Size([32, 2660, 2]) \n",
            "\n",
            "torch.Size([32, 5320])\n",
            "torch.Size([32, 5320])\n"
          ]
        },
        {
          "output_type": "stream",
          "name": "stderr",
          "text": [
            "\r  2%|▏         | 68/3697 [24:54<21:57:59, 21.79s/it]"
          ]
        },
        {
          "output_type": "stream",
          "name": "stdout",
          "text": [
            "torch.Size([32, 2660, 2]) \n",
            "\n",
            "torch.Size([32, 5320])\n",
            "torch.Size([32, 5320])\n"
          ]
        },
        {
          "output_type": "stream",
          "name": "stderr",
          "text": [
            "\r  2%|▏         | 69/3697 [25:16<21:48:01, 21.63s/it]"
          ]
        },
        {
          "output_type": "stream",
          "name": "stdout",
          "text": [
            "torch.Size([32, 2660, 2]) \n",
            "\n",
            "torch.Size([32, 5320])\n",
            "torch.Size([32, 5320])\n"
          ]
        },
        {
          "output_type": "stream",
          "name": "stderr",
          "text": [
            "\r  2%|▏         | 70/3697 [25:39<22:17:51, 22.13s/it]"
          ]
        },
        {
          "output_type": "stream",
          "name": "stdout",
          "text": [
            "torch.Size([32, 2660, 2]) \n",
            "\n",
            "torch.Size([32, 5320])\n",
            "torch.Size([32, 5320])\n"
          ]
        },
        {
          "output_type": "stream",
          "name": "stderr",
          "text": [
            "\r  2%|▏         | 71/3697 [26:00<22:02:23, 21.88s/it]"
          ]
        },
        {
          "output_type": "stream",
          "name": "stdout",
          "text": [
            "torch.Size([32, 2660, 2]) \n",
            "\n",
            "torch.Size([32, 5320])\n",
            "torch.Size([32, 5320])\n"
          ]
        },
        {
          "output_type": "stream",
          "name": "stderr",
          "text": [
            "\r  2%|▏         | 72/3697 [26:22<22:05:40, 21.94s/it]"
          ]
        },
        {
          "output_type": "stream",
          "name": "stdout",
          "text": [
            "torch.Size([32, 2660, 2]) \n",
            "\n",
            "torch.Size([32, 5320])\n",
            "torch.Size([32, 5320])\n"
          ]
        },
        {
          "output_type": "stream",
          "name": "stderr",
          "text": [
            "\r  2%|▏         | 73/3697 [26:44<22:00:35, 21.86s/it]"
          ]
        },
        {
          "output_type": "stream",
          "name": "stdout",
          "text": [
            "torch.Size([32, 2660, 2]) \n",
            "\n",
            "torch.Size([32, 5320])\n",
            "torch.Size([32, 5320])\n"
          ]
        },
        {
          "output_type": "stream",
          "name": "stderr",
          "text": [
            "\r  2%|▏         | 74/3697 [27:05<21:43:34, 21.59s/it]"
          ]
        },
        {
          "output_type": "stream",
          "name": "stdout",
          "text": [
            "torch.Size([32, 2660, 2]) \n",
            "\n",
            "torch.Size([32, 5320])\n",
            "torch.Size([32, 5320])\n"
          ]
        },
        {
          "output_type": "stream",
          "name": "stderr",
          "text": [
            "\r  2%|▏         | 75/3697 [27:27<21:50:42, 21.71s/it]"
          ]
        },
        {
          "output_type": "stream",
          "name": "stdout",
          "text": [
            "torch.Size([32, 2660, 2]) \n",
            "\n",
            "torch.Size([32, 5320])\n",
            "torch.Size([32, 5320])\n"
          ]
        },
        {
          "output_type": "stream",
          "name": "stderr",
          "text": [
            "\r  2%|▏         | 76/3697 [27:49<21:52:58, 21.76s/it]"
          ]
        },
        {
          "output_type": "stream",
          "name": "stdout",
          "text": [
            "torch.Size([32, 2660, 2]) \n",
            "\n",
            "torch.Size([32, 5320])\n",
            "torch.Size([32, 5320])\n"
          ]
        },
        {
          "output_type": "stream",
          "name": "stderr",
          "text": [
            "\r  2%|▏         | 77/3697 [28:11<21:58:58, 21.86s/it]"
          ]
        },
        {
          "output_type": "stream",
          "name": "stdout",
          "text": [
            "torch.Size([32, 2660, 2]) \n",
            "\n",
            "torch.Size([32, 5320])\n",
            "torch.Size([32, 5320])\n"
          ]
        },
        {
          "output_type": "stream",
          "name": "stderr",
          "text": [
            "\r  2%|▏         | 78/3697 [28:32<21:51:42, 21.75s/it]"
          ]
        },
        {
          "output_type": "stream",
          "name": "stdout",
          "text": [
            "torch.Size([32, 2660, 2]) \n",
            "\n",
            "torch.Size([32, 5320])\n",
            "torch.Size([32, 5320])\n"
          ]
        },
        {
          "output_type": "stream",
          "name": "stderr",
          "text": [
            "\r  2%|▏         | 79/3697 [28:54<21:43:03, 21.61s/it]"
          ]
        },
        {
          "output_type": "stream",
          "name": "stdout",
          "text": [
            "torch.Size([32, 2660, 2]) \n",
            "\n",
            "torch.Size([32, 5320])\n",
            "torch.Size([32, 5320])\n"
          ]
        },
        {
          "output_type": "stream",
          "name": "stderr",
          "text": [
            "\r  2%|▏         | 80/3697 [29:16<21:55:12, 21.82s/it]"
          ]
        },
        {
          "output_type": "stream",
          "name": "stdout",
          "text": [
            "torch.Size([32, 2660, 2]) \n",
            "\n",
            "torch.Size([32, 5320])\n",
            "torch.Size([32, 5320])\n"
          ]
        },
        {
          "output_type": "stream",
          "name": "stderr",
          "text": [
            "\r  2%|▏         | 81/3697 [29:37<21:39:29, 21.56s/it]"
          ]
        },
        {
          "output_type": "stream",
          "name": "stdout",
          "text": [
            "torch.Size([32, 2660, 2]) \n",
            "\n",
            "torch.Size([32, 5320])\n",
            "torch.Size([32, 5320])\n"
          ]
        },
        {
          "output_type": "stream",
          "name": "stderr",
          "text": [
            "\r  2%|▏         | 82/3697 [30:00<22:03:53, 21.97s/it]"
          ]
        },
        {
          "output_type": "stream",
          "name": "stdout",
          "text": [
            "torch.Size([32, 2660, 2]) \n",
            "\n",
            "torch.Size([32, 5320])\n",
            "torch.Size([32, 5320])\n"
          ]
        },
        {
          "output_type": "stream",
          "name": "stderr",
          "text": [
            "\r  2%|▏         | 83/3697 [30:22<22:05:52, 22.01s/it]"
          ]
        },
        {
          "output_type": "stream",
          "name": "stdout",
          "text": [
            "torch.Size([32, 2660, 2]) \n",
            "\n",
            "torch.Size([32, 5320])\n",
            "torch.Size([32, 5320])\n"
          ]
        },
        {
          "output_type": "stream",
          "name": "stderr",
          "text": [
            "\r  2%|▏         | 84/3697 [30:49<23:41:15, 23.60s/it]"
          ]
        },
        {
          "output_type": "stream",
          "name": "stdout",
          "text": [
            "torch.Size([32, 2660, 2]) \n",
            "\n",
            "torch.Size([32, 5320])\n",
            "torch.Size([32, 5320])\n"
          ]
        },
        {
          "output_type": "stream",
          "name": "stderr",
          "text": [
            "\r  2%|▏         | 85/3697 [31:10<22:44:06, 22.66s/it]"
          ]
        },
        {
          "output_type": "stream",
          "name": "stdout",
          "text": [
            "torch.Size([32, 2660, 2]) \n",
            "\n",
            "torch.Size([32, 5320])\n",
            "torch.Size([32, 5320])\n"
          ]
        },
        {
          "output_type": "stream",
          "name": "stderr",
          "text": [
            "\r  2%|▏         | 86/3697 [31:32<22:35:19, 22.52s/it]"
          ]
        },
        {
          "output_type": "stream",
          "name": "stdout",
          "text": [
            "torch.Size([32, 2660, 2]) \n",
            "\n",
            "torch.Size([32, 5320])\n",
            "torch.Size([32, 5320])\n"
          ]
        },
        {
          "output_type": "stream",
          "name": "stderr",
          "text": [
            "\r  2%|▏         | 87/3697 [31:53<22:02:07, 21.97s/it]"
          ]
        },
        {
          "output_type": "stream",
          "name": "stdout",
          "text": [
            "torch.Size([32, 2660, 2]) \n",
            "\n",
            "torch.Size([32, 5320])\n",
            "torch.Size([32, 5320])\n"
          ]
        },
        {
          "output_type": "stream",
          "name": "stderr",
          "text": [
            "\r  2%|▏         | 88/3697 [32:15<22:00:53, 21.96s/it]"
          ]
        },
        {
          "output_type": "stream",
          "name": "stdout",
          "text": [
            "torch.Size([32, 2660, 2]) \n",
            "\n",
            "torch.Size([32, 5320])\n",
            "torch.Size([32, 5320])\n"
          ]
        },
        {
          "output_type": "stream",
          "name": "stderr",
          "text": [
            "\r  2%|▏         | 89/3697 [32:36<21:54:41, 21.86s/it]"
          ]
        },
        {
          "output_type": "stream",
          "name": "stdout",
          "text": [
            "torch.Size([32, 2660, 2]) \n",
            "\n",
            "torch.Size([32, 5320])\n",
            "torch.Size([32, 5320])\n"
          ]
        },
        {
          "output_type": "stream",
          "name": "stderr",
          "text": [
            "\r  2%|▏         | 90/3697 [32:58<21:49:26, 21.78s/it]"
          ]
        },
        {
          "output_type": "stream",
          "name": "stdout",
          "text": [
            "torch.Size([32, 2660, 2]) \n",
            "\n",
            "torch.Size([32, 5320])\n",
            "torch.Size([32, 5320])\n"
          ]
        },
        {
          "output_type": "stream",
          "name": "stderr",
          "text": [
            "\r  2%|▏         | 91/3697 [33:20<21:55:09, 21.88s/it]"
          ]
        },
        {
          "output_type": "stream",
          "name": "stdout",
          "text": [
            "torch.Size([32, 2660, 2]) \n",
            "\n",
            "torch.Size([32, 5320])\n",
            "torch.Size([32, 5320])\n"
          ]
        },
        {
          "output_type": "stream",
          "name": "stderr",
          "text": [
            "\r  2%|▏         | 92/3697 [33:40<21:31:14, 21.49s/it]"
          ]
        },
        {
          "output_type": "stream",
          "name": "stdout",
          "text": [
            "torch.Size([32, 2660, 2]) \n",
            "\n",
            "torch.Size([32, 5320])\n",
            "torch.Size([32, 5320])\n"
          ]
        },
        {
          "output_type": "stream",
          "name": "stderr",
          "text": [
            "\r  3%|▎         | 93/3697 [34:03<21:48:39, 21.79s/it]"
          ]
        },
        {
          "output_type": "stream",
          "name": "stdout",
          "text": [
            "torch.Size([32, 2660, 2]) \n",
            "\n",
            "torch.Size([32, 5320])\n",
            "torch.Size([32, 5320])\n"
          ]
        },
        {
          "output_type": "stream",
          "name": "stderr",
          "text": [
            "\r  3%|▎         | 94/3697 [34:24<21:30:23, 21.49s/it]"
          ]
        },
        {
          "output_type": "stream",
          "name": "stdout",
          "text": [
            "torch.Size([32, 2660, 2]) \n",
            "\n",
            "torch.Size([32, 5320])\n",
            "torch.Size([32, 5320])\n"
          ]
        },
        {
          "output_type": "stream",
          "name": "stderr",
          "text": [
            "\r  3%|▎         | 95/3697 [34:46<21:36:29, 21.60s/it]"
          ]
        },
        {
          "output_type": "stream",
          "name": "stdout",
          "text": [
            "torch.Size([32, 2660, 2]) \n",
            "\n",
            "torch.Size([32, 5320])\n",
            "torch.Size([32, 5320])\n"
          ]
        },
        {
          "output_type": "stream",
          "name": "stderr",
          "text": [
            "\r  3%|▎         | 96/3697 [35:06<21:19:17, 21.32s/it]"
          ]
        },
        {
          "output_type": "stream",
          "name": "stdout",
          "text": [
            "torch.Size([32, 2660, 2]) \n",
            "\n",
            "torch.Size([32, 5320])\n",
            "torch.Size([32, 5320])\n"
          ]
        },
        {
          "output_type": "stream",
          "name": "stderr",
          "text": [
            "\r  3%|▎         | 97/3697 [35:30<22:11:16, 22.19s/it]"
          ]
        },
        {
          "output_type": "stream",
          "name": "stdout",
          "text": [
            "torch.Size([32, 2660, 2]) \n",
            "\n",
            "torch.Size([32, 5320])\n",
            "torch.Size([32, 5320])\n"
          ]
        },
        {
          "output_type": "stream",
          "name": "stderr",
          "text": [
            "\r  3%|▎         | 98/3697 [35:51<21:44:15, 21.74s/it]"
          ]
        },
        {
          "output_type": "stream",
          "name": "stdout",
          "text": [
            "torch.Size([32, 2660, 2]) \n",
            "\n",
            "torch.Size([32, 5320])\n",
            "torch.Size([32, 5320])\n"
          ]
        },
        {
          "output_type": "stream",
          "name": "stderr",
          "text": [
            "\r  3%|▎         | 99/3697 [36:13<21:47:47, 21.81s/it]"
          ]
        },
        {
          "output_type": "stream",
          "name": "stdout",
          "text": [
            "torch.Size([32, 2660, 2]) \n",
            "\n",
            "torch.Size([32, 5320])\n",
            "torch.Size([32, 5320])\n"
          ]
        },
        {
          "output_type": "stream",
          "name": "stderr",
          "text": [
            "\r  3%|▎         | 100/3697 [36:36<21:59:22, 22.01s/it]"
          ]
        },
        {
          "output_type": "stream",
          "name": "stdout",
          "text": [
            "torch.Size([32, 2660, 2]) \n",
            "\n",
            "torch.Size([32, 5320])\n",
            "torch.Size([32, 5320])\n"
          ]
        },
        {
          "output_type": "stream",
          "name": "stderr",
          "text": [
            "\r  3%|▎         | 101/3697 [36:57<21:40:28, 21.70s/it]"
          ]
        },
        {
          "output_type": "stream",
          "name": "stdout",
          "text": [
            "torch.Size([32, 2660, 2]) \n",
            "\n",
            "torch.Size([32, 5320])\n",
            "torch.Size([32, 5320])\n"
          ]
        },
        {
          "output_type": "stream",
          "name": "stderr",
          "text": [
            "\r  3%|▎         | 102/3697 [37:18<21:32:54, 21.58s/it]"
          ]
        },
        {
          "output_type": "stream",
          "name": "stdout",
          "text": [
            "torch.Size([32, 2660, 2]) \n",
            "\n",
            "torch.Size([32, 5320])\n",
            "torch.Size([32, 5320])\n"
          ]
        },
        {
          "output_type": "stream",
          "name": "stderr",
          "text": [
            "\r  3%|▎         | 103/3697 [37:39<21:16:15, 21.31s/it]"
          ]
        },
        {
          "output_type": "stream",
          "name": "stdout",
          "text": [
            "torch.Size([32, 2660, 2]) \n",
            "\n",
            "torch.Size([32, 5320])\n",
            "torch.Size([32, 5320])\n"
          ]
        },
        {
          "output_type": "stream",
          "name": "stderr",
          "text": [
            "\r  3%|▎         | 104/3697 [38:00<21:25:25, 21.47s/it]"
          ]
        },
        {
          "output_type": "stream",
          "name": "stdout",
          "text": [
            "torch.Size([32, 2660, 2]) \n",
            "\n",
            "torch.Size([32, 5320])\n",
            "torch.Size([32, 5320])\n"
          ]
        },
        {
          "output_type": "stream",
          "name": "stderr",
          "text": [
            "\r  3%|▎         | 105/3697 [38:20<20:58:38, 21.02s/it]"
          ]
        },
        {
          "output_type": "stream",
          "name": "stdout",
          "text": [
            "torch.Size([32, 2660, 2]) \n",
            "\n",
            "torch.Size([32, 5320])\n",
            "torch.Size([32, 5320])\n"
          ]
        },
        {
          "output_type": "stream",
          "name": "stderr",
          "text": [
            "\r  3%|▎         | 106/3697 [38:42<21:12:30, 21.26s/it]"
          ]
        },
        {
          "output_type": "stream",
          "name": "stdout",
          "text": [
            "torch.Size([32, 2660, 2]) \n",
            "\n",
            "torch.Size([32, 5320])\n",
            "torch.Size([32, 5320])\n"
          ]
        },
        {
          "output_type": "stream",
          "name": "stderr",
          "text": [
            "\r  3%|▎         | 107/3697 [39:03<21:05:00, 21.14s/it]"
          ]
        },
        {
          "output_type": "stream",
          "name": "stdout",
          "text": [
            "torch.Size([32, 2660, 2]) \n",
            "\n",
            "torch.Size([32, 5320])\n",
            "torch.Size([32, 5320])\n"
          ]
        },
        {
          "output_type": "stream",
          "name": "stderr",
          "text": [
            "\r  3%|▎         | 108/3697 [39:24<21:00:41, 21.08s/it]"
          ]
        },
        {
          "output_type": "stream",
          "name": "stdout",
          "text": [
            "torch.Size([32, 2660, 2]) \n",
            "\n",
            "torch.Size([32, 5320])\n",
            "torch.Size([32, 5320])\n"
          ]
        },
        {
          "output_type": "stream",
          "name": "stderr",
          "text": [
            "\r  3%|▎         | 109/3697 [39:45<20:58:56, 21.05s/it]"
          ]
        },
        {
          "output_type": "stream",
          "name": "stdout",
          "text": [
            "torch.Size([32, 2660, 2]) \n",
            "\n",
            "torch.Size([32, 5320])\n",
            "torch.Size([32, 5320])\n"
          ]
        },
        {
          "output_type": "stream",
          "name": "stderr",
          "text": [
            "\r  3%|▎         | 110/3697 [40:07<21:10:50, 21.26s/it]"
          ]
        },
        {
          "output_type": "stream",
          "name": "stdout",
          "text": [
            "torch.Size([32, 2660, 2]) \n",
            "\n",
            "torch.Size([32, 5320])\n",
            "torch.Size([32, 5320])\n"
          ]
        },
        {
          "output_type": "stream",
          "name": "stderr",
          "text": [
            "\r  3%|▎         | 111/3697 [40:28<21:18:50, 21.40s/it]"
          ]
        },
        {
          "output_type": "stream",
          "name": "stdout",
          "text": [
            "torch.Size([32, 2660, 2]) \n",
            "\n",
            "torch.Size([32, 5320])\n",
            "torch.Size([32, 5320])\n"
          ]
        },
        {
          "output_type": "stream",
          "name": "stderr",
          "text": [
            "\r  3%|▎         | 112/3697 [40:54<22:24:50, 22.51s/it]"
          ]
        },
        {
          "output_type": "stream",
          "name": "stdout",
          "text": [
            "torch.Size([32, 2660, 2]) \n",
            "\n",
            "torch.Size([32, 5320])\n",
            "torch.Size([32, 5320])\n"
          ]
        },
        {
          "output_type": "stream",
          "name": "stderr",
          "text": [
            "\r  3%|▎         | 113/3697 [41:17<22:48:34, 22.91s/it]"
          ]
        },
        {
          "output_type": "stream",
          "name": "stdout",
          "text": [
            "torch.Size([32, 2660, 2]) \n",
            "\n",
            "torch.Size([32, 5320])\n",
            "torch.Size([32, 5320])\n"
          ]
        },
        {
          "output_type": "stream",
          "name": "stderr",
          "text": [
            "\r  3%|▎         | 114/3697 [41:39<22:23:08, 22.49s/it]"
          ]
        },
        {
          "output_type": "stream",
          "name": "stdout",
          "text": [
            "torch.Size([32, 2660, 2]) \n",
            "\n",
            "torch.Size([32, 5320])\n",
            "torch.Size([32, 5320])\n"
          ]
        },
        {
          "output_type": "stream",
          "name": "stderr",
          "text": [
            "\r  3%|▎         | 115/3697 [42:00<21:59:28, 22.10s/it]"
          ]
        },
        {
          "output_type": "stream",
          "name": "stdout",
          "text": [
            "torch.Size([32, 2660, 2]) \n",
            "\n",
            "torch.Size([32, 5320])\n",
            "torch.Size([32, 5320])\n"
          ]
        },
        {
          "output_type": "stream",
          "name": "stderr",
          "text": [
            "\r  3%|▎         | 116/3697 [42:22<21:49:46, 21.95s/it]"
          ]
        },
        {
          "output_type": "stream",
          "name": "stdout",
          "text": [
            "torch.Size([32, 2660, 2]) \n",
            "\n",
            "torch.Size([32, 5320])\n",
            "torch.Size([32, 5320])\n"
          ]
        },
        {
          "output_type": "stream",
          "name": "stderr",
          "text": [
            "\r  3%|▎         | 117/3697 [42:43<21:30:21, 21.63s/it]"
          ]
        },
        {
          "output_type": "stream",
          "name": "stdout",
          "text": [
            "torch.Size([32, 2660, 2]) \n",
            "\n",
            "torch.Size([32, 5320])\n",
            "torch.Size([32, 5320])\n"
          ]
        },
        {
          "output_type": "stream",
          "name": "stderr",
          "text": [
            "\r  3%|▎         | 118/3697 [43:04<21:24:33, 21.53s/it]"
          ]
        },
        {
          "output_type": "stream",
          "name": "stdout",
          "text": [
            "torch.Size([32, 2660, 2]) \n",
            "\n",
            "torch.Size([32, 5320])\n",
            "torch.Size([32, 5320])\n"
          ]
        },
        {
          "output_type": "stream",
          "name": "stderr",
          "text": [
            "\r  3%|▎         | 119/3697 [43:24<21:01:30, 21.15s/it]"
          ]
        },
        {
          "output_type": "stream",
          "name": "stdout",
          "text": [
            "torch.Size([32, 2660, 2]) \n",
            "\n",
            "torch.Size([32, 5320])\n",
            "torch.Size([32, 5320])\n"
          ]
        },
        {
          "output_type": "stream",
          "name": "stderr",
          "text": [
            "\r  3%|▎         | 120/3697 [43:46<21:10:19, 21.31s/it]"
          ]
        },
        {
          "output_type": "stream",
          "name": "stdout",
          "text": [
            "torch.Size([32, 2660, 2]) \n",
            "\n",
            "torch.Size([32, 5320])\n",
            "torch.Size([32, 5320])\n"
          ]
        },
        {
          "output_type": "stream",
          "name": "stderr",
          "text": [
            "\r  3%|▎         | 121/3697 [44:08<21:25:17, 21.57s/it]"
          ]
        },
        {
          "output_type": "stream",
          "name": "stdout",
          "text": [
            "torch.Size([32, 2660, 2]) \n",
            "\n",
            "torch.Size([32, 5320])\n",
            "torch.Size([32, 5320])\n"
          ]
        },
        {
          "output_type": "stream",
          "name": "stderr",
          "text": [
            "\r  3%|▎         | 122/3697 [44:29<21:17:28, 21.44s/it]"
          ]
        },
        {
          "output_type": "stream",
          "name": "stdout",
          "text": [
            "torch.Size([32, 2660, 2]) \n",
            "\n",
            "torch.Size([32, 5320])\n",
            "torch.Size([32, 5320])\n"
          ]
        },
        {
          "output_type": "stream",
          "name": "stderr",
          "text": [
            "\r  3%|▎         | 123/3697 [44:51<21:26:14, 21.59s/it]"
          ]
        },
        {
          "output_type": "stream",
          "name": "stdout",
          "text": [
            "torch.Size([32, 2660, 2]) \n",
            "\n",
            "torch.Size([32, 5320])\n",
            "torch.Size([32, 5320])\n"
          ]
        },
        {
          "output_type": "stream",
          "name": "stderr",
          "text": [
            "\r  3%|▎         | 124/3697 [45:13<21:31:52, 21.69s/it]"
          ]
        },
        {
          "output_type": "stream",
          "name": "stdout",
          "text": [
            "torch.Size([32, 2660, 2]) \n",
            "\n",
            "torch.Size([32, 5320])\n",
            "torch.Size([32, 5320])\n"
          ]
        },
        {
          "output_type": "stream",
          "name": "stderr",
          "text": [
            "\r  3%|▎         | 125/3697 [45:35<21:42:11, 21.87s/it]"
          ]
        },
        {
          "output_type": "stream",
          "name": "stdout",
          "text": [
            "torch.Size([32, 2660, 2]) \n",
            "\n",
            "torch.Size([32, 5320])\n",
            "torch.Size([32, 5320])\n"
          ]
        },
        {
          "output_type": "stream",
          "name": "stderr",
          "text": [
            "\r  3%|▎         | 126/3697 [45:57<21:43:45, 21.91s/it]"
          ]
        },
        {
          "output_type": "stream",
          "name": "stdout",
          "text": [
            "torch.Size([32, 2660, 2]) \n",
            "\n",
            "torch.Size([32, 5320])\n",
            "torch.Size([32, 5320])\n"
          ]
        },
        {
          "output_type": "stream",
          "name": "stderr",
          "text": [
            "\r  3%|▎         | 127/3697 [46:18<21:29:25, 21.67s/it]"
          ]
        },
        {
          "output_type": "stream",
          "name": "stdout",
          "text": [
            "torch.Size([32, 2660, 2]) \n",
            "\n",
            "torch.Size([32, 5320])\n",
            "torch.Size([32, 5320])\n"
          ]
        },
        {
          "output_type": "stream",
          "name": "stderr",
          "text": [
            "\r  3%|▎         | 128/3697 [46:42<21:56:48, 22.14s/it]"
          ]
        },
        {
          "output_type": "stream",
          "name": "stdout",
          "text": [
            "torch.Size([32, 2660, 2]) \n",
            "\n",
            "torch.Size([32, 5320])\n",
            "torch.Size([32, 5320])\n"
          ]
        },
        {
          "output_type": "stream",
          "name": "stderr",
          "text": [
            "\r  3%|▎         | 129/3697 [47:02<21:33:17, 21.75s/it]"
          ]
        },
        {
          "output_type": "stream",
          "name": "stdout",
          "text": [
            "torch.Size([32, 2660, 2]) \n",
            "\n",
            "torch.Size([32, 5320])\n",
            "torch.Size([32, 5320])\n"
          ]
        },
        {
          "output_type": "stream",
          "name": "stderr",
          "text": [
            "\r  4%|▎         | 130/3697 [47:27<22:28:37, 22.69s/it]"
          ]
        },
        {
          "output_type": "stream",
          "name": "stdout",
          "text": [
            "torch.Size([32, 2660, 2]) \n",
            "\n",
            "torch.Size([32, 5320])\n",
            "torch.Size([32, 5320])\n"
          ]
        },
        {
          "output_type": "stream",
          "name": "stderr",
          "text": [
            "\r  4%|▎         | 131/3697 [47:49<22:13:07, 22.43s/it]"
          ]
        },
        {
          "output_type": "stream",
          "name": "stdout",
          "text": [
            "torch.Size([32, 2660, 2]) \n",
            "\n",
            "torch.Size([32, 5320])\n",
            "torch.Size([32, 5320])\n"
          ]
        },
        {
          "output_type": "stream",
          "name": "stderr",
          "text": [
            "\r  4%|▎         | 132/3697 [48:10<21:40:48, 21.89s/it]"
          ]
        },
        {
          "output_type": "stream",
          "name": "stdout",
          "text": [
            "torch.Size([32, 2660, 2]) \n",
            "\n",
            "torch.Size([32, 5320])\n",
            "torch.Size([32, 5320])\n"
          ]
        },
        {
          "output_type": "stream",
          "name": "stderr",
          "text": [
            "\r  4%|▎         | 133/3697 [48:32<21:42:24, 21.93s/it]"
          ]
        },
        {
          "output_type": "stream",
          "name": "stdout",
          "text": [
            "torch.Size([32, 2660, 2]) \n",
            "\n",
            "torch.Size([32, 5320])\n",
            "torch.Size([32, 5320])\n"
          ]
        },
        {
          "output_type": "stream",
          "name": "stderr",
          "text": [
            "\r  4%|▎         | 134/3697 [48:54<21:47:13, 22.01s/it]"
          ]
        },
        {
          "output_type": "stream",
          "name": "stdout",
          "text": [
            "torch.Size([32, 2660, 2]) \n",
            "\n",
            "torch.Size([32, 5320])\n",
            "torch.Size([32, 5320])\n"
          ]
        },
        {
          "output_type": "stream",
          "name": "stderr",
          "text": [
            "\r  4%|▎         | 135/3697 [49:15<21:32:05, 21.76s/it]"
          ]
        },
        {
          "output_type": "stream",
          "name": "stdout",
          "text": [
            "torch.Size([32, 2660, 2]) \n",
            "\n",
            "torch.Size([32, 5320])\n",
            "torch.Size([32, 5320])\n"
          ]
        },
        {
          "output_type": "stream",
          "name": "stderr",
          "text": [
            "\r  4%|▎         | 136/3697 [49:37<21:36:09, 21.84s/it]"
          ]
        },
        {
          "output_type": "stream",
          "name": "stdout",
          "text": [
            "torch.Size([32, 2660, 2]) \n",
            "\n",
            "torch.Size([32, 5320])\n",
            "torch.Size([32, 5320])\n"
          ]
        },
        {
          "output_type": "stream",
          "name": "stderr",
          "text": [
            "\r  4%|▎         | 137/3697 [50:00<21:44:39, 21.99s/it]"
          ]
        },
        {
          "output_type": "stream",
          "name": "stdout",
          "text": [
            "torch.Size([32, 2660, 2]) \n",
            "\n",
            "torch.Size([32, 5320])\n",
            "torch.Size([32, 5320])\n"
          ]
        },
        {
          "output_type": "stream",
          "name": "stderr",
          "text": [
            "\r  4%|▎         | 138/3697 [50:21<21:39:22, 21.91s/it]"
          ]
        },
        {
          "output_type": "stream",
          "name": "stdout",
          "text": [
            "torch.Size([32, 2660, 2]) \n",
            "\n",
            "torch.Size([32, 5320])\n",
            "torch.Size([32, 5320])\n"
          ]
        },
        {
          "output_type": "stream",
          "name": "stderr",
          "text": [
            "\r  4%|▍         | 139/3697 [50:42<21:15:47, 21.51s/it]"
          ]
        },
        {
          "output_type": "stream",
          "name": "stdout",
          "text": [
            "torch.Size([32, 2660, 2]) \n",
            "\n",
            "torch.Size([32, 5320])\n",
            "torch.Size([32, 5320])\n"
          ]
        },
        {
          "output_type": "stream",
          "name": "stderr",
          "text": [
            "\r  4%|▍         | 140/3697 [51:06<22:09:08, 22.42s/it]"
          ]
        },
        {
          "output_type": "stream",
          "name": "stdout",
          "text": [
            "torch.Size([32, 2660, 2]) \n",
            "\n",
            "torch.Size([32, 5320])\n",
            "torch.Size([32, 5320])\n"
          ]
        },
        {
          "output_type": "stream",
          "name": "stderr",
          "text": [
            "\r  4%|▍         | 141/3697 [51:28<21:58:17, 22.24s/it]"
          ]
        },
        {
          "output_type": "stream",
          "name": "stdout",
          "text": [
            "torch.Size([32, 2660, 2]) \n",
            "\n",
            "torch.Size([32, 5320])\n",
            "torch.Size([32, 5320])\n"
          ]
        },
        {
          "output_type": "stream",
          "name": "stderr",
          "text": [
            "\r  4%|▍         | 142/3697 [51:49<21:35:37, 21.87s/it]"
          ]
        },
        {
          "output_type": "stream",
          "name": "stdout",
          "text": [
            "torch.Size([32, 2660, 2]) \n",
            "\n",
            "torch.Size([32, 5320])\n",
            "torch.Size([32, 5320])\n"
          ]
        },
        {
          "output_type": "stream",
          "name": "stderr",
          "text": [
            "\r  4%|▍         | 143/3697 [52:11<21:26:58, 21.73s/it]"
          ]
        },
        {
          "output_type": "stream",
          "name": "stdout",
          "text": [
            "torch.Size([32, 2660, 2]) \n",
            "\n",
            "torch.Size([32, 5320])\n",
            "torch.Size([32, 5320])\n"
          ]
        },
        {
          "output_type": "stream",
          "name": "stderr",
          "text": [
            "\r  4%|▍         | 144/3697 [52:31<21:10:27, 21.45s/it]"
          ]
        },
        {
          "output_type": "stream",
          "name": "stdout",
          "text": [
            "torch.Size([32, 2660, 2]) \n",
            "\n",
            "torch.Size([32, 5320])\n",
            "torch.Size([32, 5320])\n"
          ]
        },
        {
          "output_type": "stream",
          "name": "stderr",
          "text": [
            "\r  4%|▍         | 145/3697 [52:55<21:38:04, 21.93s/it]"
          ]
        },
        {
          "output_type": "stream",
          "name": "stdout",
          "text": [
            "torch.Size([32, 2660, 2]) \n",
            "\n",
            "torch.Size([32, 5320])\n",
            "torch.Size([32, 5320])\n"
          ]
        },
        {
          "output_type": "stream",
          "name": "stderr",
          "text": [
            "\r  4%|▍         | 146/3697 [53:16<21:27:45, 21.76s/it]"
          ]
        },
        {
          "output_type": "stream",
          "name": "stdout",
          "text": [
            "torch.Size([32, 2660, 2]) \n",
            "\n",
            "torch.Size([32, 5320])\n",
            "torch.Size([32, 5320])\n"
          ]
        },
        {
          "output_type": "stream",
          "name": "stderr",
          "text": [
            "\r  4%|▍         | 147/3697 [53:37<21:24:45, 21.71s/it]"
          ]
        },
        {
          "output_type": "stream",
          "name": "stdout",
          "text": [
            "torch.Size([32, 2660, 2]) \n",
            "\n",
            "torch.Size([32, 5320])\n",
            "torch.Size([32, 5320])\n"
          ]
        },
        {
          "output_type": "stream",
          "name": "stderr",
          "text": [
            "\r  4%|▍         | 148/3697 [54:00<21:32:25, 21.85s/it]"
          ]
        },
        {
          "output_type": "stream",
          "name": "stdout",
          "text": [
            "torch.Size([32, 2660, 2]) \n",
            "\n",
            "torch.Size([32, 5320])\n",
            "torch.Size([32, 5320])\n"
          ]
        },
        {
          "output_type": "stream",
          "name": "stderr",
          "text": [
            "\r  4%|▍         | 149/3697 [54:22<21:32:42, 21.86s/it]"
          ]
        },
        {
          "output_type": "stream",
          "name": "stdout",
          "text": [
            "torch.Size([32, 2660, 2]) \n",
            "\n",
            "torch.Size([32, 5320])\n",
            "torch.Size([32, 5320])\n"
          ]
        },
        {
          "output_type": "stream",
          "name": "stderr",
          "text": [
            "\r  4%|▍         | 150/3697 [54:43<21:27:09, 21.77s/it]"
          ]
        },
        {
          "output_type": "stream",
          "name": "stdout",
          "text": [
            "torch.Size([32, 2660, 2]) \n",
            "\n",
            "torch.Size([32, 5320])\n",
            "torch.Size([32, 5320])\n"
          ]
        },
        {
          "output_type": "stream",
          "name": "stderr",
          "text": [
            "\r  4%|▍         | 151/3697 [55:04<21:14:34, 21.57s/it]"
          ]
        },
        {
          "output_type": "stream",
          "name": "stdout",
          "text": [
            "torch.Size([32, 2660, 2]) \n",
            "\n",
            "torch.Size([32, 5320])\n",
            "torch.Size([32, 5320])\n"
          ]
        },
        {
          "output_type": "stream",
          "name": "stderr",
          "text": [
            "\r  4%|▍         | 152/3697 [55:26<21:12:24, 21.54s/it]"
          ]
        },
        {
          "output_type": "stream",
          "name": "stdout",
          "text": [
            "torch.Size([32, 2660, 2]) \n",
            "\n",
            "torch.Size([32, 5320])\n",
            "torch.Size([32, 5320])\n"
          ]
        },
        {
          "output_type": "stream",
          "name": "stderr",
          "text": [
            "\r  4%|▍         | 153/3697 [55:47<21:02:48, 21.38s/it]"
          ]
        },
        {
          "output_type": "stream",
          "name": "stdout",
          "text": [
            "torch.Size([32, 2660, 2]) \n",
            "\n",
            "torch.Size([32, 5320])\n",
            "torch.Size([32, 5320])\n"
          ]
        },
        {
          "output_type": "stream",
          "name": "stderr",
          "text": [
            "\r  4%|▍         | 154/3697 [56:08<21:05:54, 21.44s/it]"
          ]
        },
        {
          "output_type": "stream",
          "name": "stdout",
          "text": [
            "torch.Size([32, 2660, 2]) \n",
            "\n",
            "torch.Size([32, 5320])\n",
            "torch.Size([32, 5320])\n"
          ]
        },
        {
          "output_type": "stream",
          "name": "stderr",
          "text": [
            "\r  4%|▍         | 155/3697 [56:30<21:13:11, 21.57s/it]"
          ]
        },
        {
          "output_type": "stream",
          "name": "stdout",
          "text": [
            "torch.Size([32, 2660, 2]) \n",
            "\n",
            "torch.Size([32, 5320])\n",
            "torch.Size([32, 5320])\n"
          ]
        },
        {
          "output_type": "stream",
          "name": "stderr",
          "text": [
            "\r  4%|▍         | 156/3697 [56:51<21:06:48, 21.47s/it]"
          ]
        },
        {
          "output_type": "stream",
          "name": "stdout",
          "text": [
            "torch.Size([32, 2660, 2]) \n",
            "\n",
            "torch.Size([32, 5320])\n",
            "torch.Size([32, 5320])\n"
          ]
        },
        {
          "output_type": "stream",
          "name": "stderr",
          "text": [
            "\r  4%|▍         | 157/3697 [57:13<21:09:56, 21.52s/it]"
          ]
        },
        {
          "output_type": "stream",
          "name": "stdout",
          "text": [
            "torch.Size([32, 2660, 2]) \n",
            "\n",
            "torch.Size([32, 5320])\n",
            "torch.Size([32, 5320])\n"
          ]
        },
        {
          "output_type": "stream",
          "name": "stderr",
          "text": [
            "\r  4%|▍         | 158/3697 [57:34<20:57:48, 21.32s/it]"
          ]
        },
        {
          "output_type": "stream",
          "name": "stdout",
          "text": [
            "torch.Size([32, 2660, 2]) \n",
            "\n",
            "torch.Size([32, 5320])\n",
            "torch.Size([32, 5320])\n"
          ]
        },
        {
          "output_type": "stream",
          "name": "stderr",
          "text": [
            "\r  4%|▍         | 159/3697 [57:56<21:05:03, 21.45s/it]"
          ]
        },
        {
          "output_type": "stream",
          "name": "stdout",
          "text": [
            "torch.Size([32, 2660, 2]) \n",
            "\n",
            "torch.Size([32, 5320])\n",
            "torch.Size([32, 5320])\n"
          ]
        },
        {
          "output_type": "stream",
          "name": "stderr",
          "text": [
            "\r  4%|▍         | 160/3697 [58:18<21:22:57, 21.76s/it]"
          ]
        },
        {
          "output_type": "stream",
          "name": "stdout",
          "text": [
            "torch.Size([32, 2660, 2]) \n",
            "\n",
            "torch.Size([32, 5320])\n",
            "torch.Size([32, 5320])\n"
          ]
        },
        {
          "output_type": "stream",
          "name": "stderr",
          "text": [
            "\r  4%|▍         | 161/3697 [58:40<21:31:20, 21.91s/it]"
          ]
        },
        {
          "output_type": "stream",
          "name": "stdout",
          "text": [
            "torch.Size([32, 2660, 2]) \n",
            "\n",
            "torch.Size([32, 5320])\n",
            "torch.Size([32, 5320])\n"
          ]
        },
        {
          "output_type": "stream",
          "name": "stderr",
          "text": [
            "\r  4%|▍         | 162/3697 [59:02<21:20:55, 21.74s/it]"
          ]
        },
        {
          "output_type": "stream",
          "name": "stdout",
          "text": [
            "torch.Size([32, 2660, 2]) \n",
            "\n",
            "torch.Size([32, 5320])\n",
            "torch.Size([32, 5320])\n"
          ]
        },
        {
          "output_type": "stream",
          "name": "stderr",
          "text": [
            "\r  4%|▍         | 163/3697 [59:24<21:35:25, 21.99s/it]"
          ]
        },
        {
          "output_type": "stream",
          "name": "stdout",
          "text": [
            "torch.Size([32, 2660, 2]) \n",
            "\n",
            "torch.Size([32, 5320])\n",
            "torch.Size([32, 5320])\n"
          ]
        },
        {
          "output_type": "stream",
          "name": "stderr",
          "text": [
            "\r  4%|▍         | 164/3697 [59:46<21:23:37, 21.80s/it]"
          ]
        },
        {
          "output_type": "stream",
          "name": "stdout",
          "text": [
            "torch.Size([32, 2660, 2]) \n",
            "\n",
            "torch.Size([32, 5320])\n",
            "torch.Size([32, 5320])\n"
          ]
        },
        {
          "output_type": "stream",
          "name": "stderr",
          "text": [
            "\r  4%|▍         | 165/3697 [1:00:07<21:09:16, 21.56s/it]"
          ]
        },
        {
          "output_type": "stream",
          "name": "stdout",
          "text": [
            "torch.Size([32, 2660, 2]) \n",
            "\n",
            "torch.Size([32, 5320])\n",
            "torch.Size([32, 5320])\n"
          ]
        },
        {
          "output_type": "stream",
          "name": "stderr",
          "text": [
            "\r  4%|▍         | 166/3697 [1:00:29<21:14:20, 21.65s/it]"
          ]
        },
        {
          "output_type": "stream",
          "name": "stdout",
          "text": [
            "torch.Size([32, 2660, 2]) \n",
            "\n",
            "torch.Size([32, 5320])\n",
            "torch.Size([32, 5320])\n"
          ]
        },
        {
          "output_type": "stream",
          "name": "stderr",
          "text": [
            "\r  5%|▍         | 167/3697 [1:00:51<21:36:09, 22.03s/it]"
          ]
        },
        {
          "output_type": "stream",
          "name": "stdout",
          "text": [
            "torch.Size([32, 2660, 2]) \n",
            "\n",
            "torch.Size([32, 5320])\n",
            "torch.Size([32, 5320])\n"
          ]
        },
        {
          "output_type": "stream",
          "name": "stderr",
          "text": [
            "\r  5%|▍         | 168/3697 [1:01:16<22:19:28, 22.77s/it]"
          ]
        },
        {
          "output_type": "stream",
          "name": "stdout",
          "text": [
            "torch.Size([32, 2660, 2]) \n",
            "\n",
            "torch.Size([32, 5320])\n",
            "torch.Size([32, 5320])\n"
          ]
        },
        {
          "output_type": "stream",
          "name": "stderr",
          "text": [
            "\r  5%|▍         | 169/3697 [1:01:38<22:06:00, 22.55s/it]"
          ]
        },
        {
          "output_type": "stream",
          "name": "stdout",
          "text": [
            "torch.Size([32, 2660, 2]) \n",
            "\n",
            "torch.Size([32, 5320])\n",
            "torch.Size([32, 5320])\n"
          ]
        },
        {
          "output_type": "stream",
          "name": "stderr",
          "text": [
            "\r  5%|▍         | 170/3697 [1:02:01<22:14:00, 22.69s/it]"
          ]
        },
        {
          "output_type": "stream",
          "name": "stdout",
          "text": [
            "torch.Size([32, 2660, 2]) \n",
            "\n",
            "torch.Size([32, 5320])\n",
            "torch.Size([32, 5320])\n"
          ]
        },
        {
          "output_type": "stream",
          "name": "stderr",
          "text": [
            "\r  5%|▍         | 171/3697 [1:02:22<21:47:53, 22.26s/it]"
          ]
        },
        {
          "output_type": "stream",
          "name": "stdout",
          "text": [
            "torch.Size([32, 2660, 2]) \n",
            "\n",
            "torch.Size([32, 5320])\n",
            "torch.Size([32, 5320])\n"
          ]
        },
        {
          "output_type": "stream",
          "name": "stderr",
          "text": [
            "\r  5%|▍         | 172/3697 [1:02:44<21:39:03, 22.11s/it]"
          ]
        },
        {
          "output_type": "stream",
          "name": "stdout",
          "text": [
            "torch.Size([32, 2660, 2]) \n",
            "\n",
            "torch.Size([32, 5320])\n",
            "torch.Size([32, 5320])\n"
          ]
        },
        {
          "output_type": "stream",
          "name": "stderr",
          "text": [
            "\r  5%|▍         | 173/3697 [1:03:05<21:22:34, 21.84s/it]"
          ]
        },
        {
          "output_type": "stream",
          "name": "stdout",
          "text": [
            "torch.Size([32, 2660, 2]) \n",
            "\n",
            "torch.Size([32, 5320])\n",
            "torch.Size([32, 5320])\n"
          ]
        },
        {
          "output_type": "stream",
          "name": "stderr",
          "text": [
            "\r  5%|▍         | 174/3697 [1:03:26<21:07:43, 21.59s/it]"
          ]
        },
        {
          "output_type": "stream",
          "name": "stdout",
          "text": [
            "torch.Size([32, 2660, 2]) \n",
            "\n",
            "torch.Size([32, 5320])\n",
            "torch.Size([32, 5320])\n"
          ]
        },
        {
          "output_type": "stream",
          "name": "stderr",
          "text": [
            "\r  5%|▍         | 175/3697 [1:03:47<20:58:42, 21.44s/it]"
          ]
        },
        {
          "output_type": "stream",
          "name": "stdout",
          "text": [
            "torch.Size([32, 2660, 2]) \n",
            "\n",
            "torch.Size([32, 5320])\n",
            "torch.Size([32, 5320])\n"
          ]
        },
        {
          "output_type": "stream",
          "name": "stderr",
          "text": [
            "\r  5%|▍         | 176/3697 [1:04:08<20:51:06, 21.32s/it]"
          ]
        },
        {
          "output_type": "stream",
          "name": "stdout",
          "text": [
            "torch.Size([32, 2660, 2]) \n",
            "\n",
            "torch.Size([32, 5320])\n",
            "torch.Size([32, 5320])\n"
          ]
        },
        {
          "output_type": "stream",
          "name": "stderr",
          "text": [
            "\r  5%|▍         | 177/3697 [1:04:31<21:09:30, 21.64s/it]"
          ]
        },
        {
          "output_type": "stream",
          "name": "stdout",
          "text": [
            "torch.Size([32, 2660, 2]) \n",
            "\n",
            "torch.Size([32, 5320])\n",
            "torch.Size([32, 5320])\n"
          ]
        },
        {
          "output_type": "stream",
          "name": "stderr",
          "text": [
            "\r  5%|▍         | 178/3697 [1:04:51<20:47:58, 21.28s/it]"
          ]
        },
        {
          "output_type": "stream",
          "name": "stdout",
          "text": [
            "torch.Size([32, 2660, 2]) \n",
            "\n",
            "torch.Size([32, 5320])\n",
            "torch.Size([32, 5320])\n"
          ]
        },
        {
          "output_type": "stream",
          "name": "stderr",
          "text": [
            "\r  5%|▍         | 179/3697 [1:05:13<20:57:20, 21.44s/it]"
          ]
        },
        {
          "output_type": "stream",
          "name": "stdout",
          "text": [
            "torch.Size([32, 2660, 2]) \n",
            "\n",
            "torch.Size([32, 5320])\n",
            "torch.Size([32, 5320])\n"
          ]
        },
        {
          "output_type": "stream",
          "name": "stderr",
          "text": [
            "\r  5%|▍         | 180/3697 [1:05:33<20:36:10, 21.09s/it]"
          ]
        },
        {
          "output_type": "stream",
          "name": "stdout",
          "text": [
            "torch.Size([32, 2660, 2]) \n",
            "\n",
            "torch.Size([32, 5320])\n",
            "torch.Size([32, 5320])\n"
          ]
        },
        {
          "output_type": "stream",
          "name": "stderr",
          "text": [
            "\r  5%|▍         | 181/3697 [1:05:55<20:43:53, 21.23s/it]"
          ]
        },
        {
          "output_type": "stream",
          "name": "stdout",
          "text": [
            "torch.Size([32, 2660, 2]) \n",
            "\n",
            "torch.Size([32, 5320])\n",
            "torch.Size([32, 5320])\n"
          ]
        },
        {
          "output_type": "stream",
          "name": "stderr",
          "text": [
            "\r  5%|▍         | 182/3697 [1:06:16<20:45:14, 21.26s/it]"
          ]
        },
        {
          "output_type": "stream",
          "name": "stdout",
          "text": [
            "torch.Size([32, 2660, 2]) \n",
            "\n",
            "torch.Size([32, 5320])\n",
            "torch.Size([32, 5320])\n"
          ]
        },
        {
          "output_type": "stream",
          "name": "stderr",
          "text": [
            "\r  5%|▍         | 183/3697 [1:06:37<20:44:53, 21.26s/it]"
          ]
        },
        {
          "output_type": "stream",
          "name": "stdout",
          "text": [
            "torch.Size([32, 2660, 2]) \n",
            "\n",
            "torch.Size([32, 5320])\n",
            "torch.Size([32, 5320])\n"
          ]
        },
        {
          "output_type": "stream",
          "name": "stderr",
          "text": [
            "\r  5%|▍         | 184/3697 [1:07:00<21:00:01, 21.52s/it]"
          ]
        },
        {
          "output_type": "stream",
          "name": "stdout",
          "text": [
            "torch.Size([32, 2660, 2]) \n",
            "\n",
            "torch.Size([32, 5320])\n",
            "torch.Size([32, 5320])\n"
          ]
        },
        {
          "output_type": "stream",
          "name": "stderr",
          "text": [
            "\r  5%|▌         | 185/3697 [1:07:23<21:34:33, 22.12s/it]"
          ]
        },
        {
          "output_type": "stream",
          "name": "stdout",
          "text": [
            "torch.Size([32, 2660, 2]) \n",
            "\n",
            "torch.Size([32, 5320])\n",
            "torch.Size([32, 5320])\n"
          ]
        },
        {
          "output_type": "stream",
          "name": "stderr",
          "text": [
            "\r  5%|▌         | 186/3697 [1:07:45<21:27:46, 22.01s/it]"
          ]
        },
        {
          "output_type": "stream",
          "name": "stdout",
          "text": [
            "torch.Size([32, 2660, 2]) \n",
            "\n",
            "torch.Size([32, 5320])\n",
            "torch.Size([32, 5320])\n"
          ]
        },
        {
          "output_type": "stream",
          "name": "stderr",
          "text": [
            "\r  5%|▌         | 187/3697 [1:08:05<21:00:38, 21.55s/it]"
          ]
        },
        {
          "output_type": "stream",
          "name": "stdout",
          "text": [
            "torch.Size([32, 2660, 2]) \n",
            "\n",
            "torch.Size([32, 5320])\n",
            "torch.Size([32, 5320])\n"
          ]
        },
        {
          "output_type": "stream",
          "name": "stderr",
          "text": [
            "\r  5%|▌         | 188/3697 [1:08:28<21:13:12, 21.77s/it]"
          ]
        },
        {
          "output_type": "stream",
          "name": "stdout",
          "text": [
            "torch.Size([32, 2660, 2]) \n",
            "\n",
            "torch.Size([32, 5320])\n",
            "torch.Size([32, 5320])\n"
          ]
        },
        {
          "output_type": "stream",
          "name": "stderr",
          "text": [
            "\r  5%|▌         | 189/3697 [1:08:50<21:25:10, 21.98s/it]"
          ]
        },
        {
          "output_type": "stream",
          "name": "stdout",
          "text": [
            "torch.Size([32, 2660, 2]) \n",
            "\n",
            "torch.Size([32, 5320])\n",
            "torch.Size([32, 5320])\n"
          ]
        },
        {
          "output_type": "stream",
          "name": "stderr",
          "text": [
            "\r  5%|▌         | 190/3697 [1:09:11<21:00:38, 21.57s/it]"
          ]
        },
        {
          "output_type": "stream",
          "name": "stdout",
          "text": [
            "torch.Size([32, 2660, 2]) \n",
            "\n",
            "torch.Size([32, 5320])\n",
            "torch.Size([32, 5320])\n"
          ]
        },
        {
          "output_type": "stream",
          "name": "stderr",
          "text": [
            "\r  5%|▌         | 191/3697 [1:09:33<21:18:22, 21.88s/it]"
          ]
        },
        {
          "output_type": "stream",
          "name": "stdout",
          "text": [
            "torch.Size([32, 2660, 2]) \n",
            "\n",
            "torch.Size([32, 5320])\n",
            "torch.Size([32, 5320])\n"
          ]
        },
        {
          "output_type": "stream",
          "name": "stderr",
          "text": [
            "\r  5%|▌         | 192/3697 [1:09:54<20:57:40, 21.53s/it]"
          ]
        },
        {
          "output_type": "stream",
          "name": "stdout",
          "text": [
            "torch.Size([32, 2660, 2]) \n",
            "\n",
            "torch.Size([32, 5320])\n",
            "torch.Size([32, 5320])\n"
          ]
        },
        {
          "output_type": "stream",
          "name": "stderr",
          "text": [
            "\r  5%|▌         | 193/3697 [1:10:16<21:04:32, 21.65s/it]"
          ]
        },
        {
          "output_type": "stream",
          "name": "stdout",
          "text": [
            "torch.Size([32, 2660, 2]) \n",
            "\n",
            "torch.Size([32, 5320])\n",
            "torch.Size([32, 5320])\n"
          ]
        },
        {
          "output_type": "stream",
          "name": "stderr",
          "text": [
            "\r  5%|▌         | 194/3697 [1:10:38<21:20:51, 21.94s/it]"
          ]
        },
        {
          "output_type": "stream",
          "name": "stdout",
          "text": [
            "torch.Size([32, 2660, 2]) \n",
            "\n",
            "torch.Size([32, 5320])\n",
            "torch.Size([32, 5320])\n"
          ]
        },
        {
          "output_type": "stream",
          "name": "stderr",
          "text": [
            "\r  5%|▌         | 195/3697 [1:11:00<21:05:51, 21.69s/it]"
          ]
        },
        {
          "output_type": "stream",
          "name": "stdout",
          "text": [
            "torch.Size([32, 2660, 2]) \n",
            "\n",
            "torch.Size([32, 5320])\n",
            "torch.Size([32, 5320])\n"
          ]
        },
        {
          "output_type": "stream",
          "name": "stderr",
          "text": [
            "\r  5%|▌         | 196/3697 [1:11:27<22:42:54, 23.36s/it]"
          ]
        },
        {
          "output_type": "stream",
          "name": "stdout",
          "text": [
            "torch.Size([32, 2660, 2]) \n",
            "\n",
            "torch.Size([32, 5320])\n",
            "torch.Size([32, 5320])\n"
          ]
        },
        {
          "output_type": "stream",
          "name": "stderr",
          "text": [
            "\r  5%|▌         | 197/3697 [1:11:49<22:16:28, 22.91s/it]"
          ]
        },
        {
          "output_type": "stream",
          "name": "stdout",
          "text": [
            "torch.Size([32, 2660, 2]) \n",
            "\n",
            "torch.Size([32, 5320])\n",
            "torch.Size([32, 5320])\n"
          ]
        },
        {
          "output_type": "stream",
          "name": "stderr",
          "text": [
            "\r  5%|▌         | 198/3697 [1:12:12<22:17:34, 22.94s/it]"
          ]
        },
        {
          "output_type": "stream",
          "name": "stdout",
          "text": [
            "torch.Size([32, 2660, 2]) \n",
            "\n",
            "torch.Size([32, 5320])\n",
            "torch.Size([32, 5320])\n"
          ]
        },
        {
          "output_type": "stream",
          "name": "stderr",
          "text": [
            "\r  5%|▌         | 199/3697 [1:12:33<21:50:05, 22.47s/it]"
          ]
        },
        {
          "output_type": "stream",
          "name": "stdout",
          "text": [
            "torch.Size([32, 2660, 2]) \n",
            "\n",
            "torch.Size([32, 5320])\n",
            "torch.Size([32, 5320])\n"
          ]
        },
        {
          "output_type": "stream",
          "name": "stderr",
          "text": [
            "\r  5%|▌         | 200/3697 [1:12:55<21:35:02, 22.22s/it]"
          ]
        },
        {
          "output_type": "stream",
          "name": "stdout",
          "text": [
            "torch.Size([32, 2660, 2]) \n",
            "\n",
            "torch.Size([32, 5320])\n",
            "torch.Size([32, 5320])\n"
          ]
        },
        {
          "output_type": "stream",
          "name": "stderr",
          "text": [
            "\r  5%|▌         | 201/3697 [1:13:16<21:23:31, 22.03s/it]"
          ]
        },
        {
          "output_type": "stream",
          "name": "stdout",
          "text": [
            "torch.Size([32, 2660, 2]) \n",
            "\n",
            "torch.Size([32, 5320])\n",
            "torch.Size([32, 5320])\n"
          ]
        },
        {
          "output_type": "stream",
          "name": "stderr",
          "text": [
            "\r  5%|▌         | 202/3697 [1:13:38<21:09:38, 21.80s/it]"
          ]
        },
        {
          "output_type": "stream",
          "name": "stdout",
          "text": [
            "torch.Size([32, 2660, 2]) \n",
            "\n",
            "torch.Size([32, 5320])\n",
            "torch.Size([32, 5320])\n"
          ]
        },
        {
          "output_type": "stream",
          "name": "stderr",
          "text": [
            "\r  5%|▌         | 203/3697 [1:14:00<21:26:33, 22.09s/it]"
          ]
        },
        {
          "output_type": "stream",
          "name": "stdout",
          "text": [
            "torch.Size([32, 2660, 2]) \n",
            "\n",
            "torch.Size([32, 5320])\n",
            "torch.Size([32, 5320])\n"
          ]
        },
        {
          "output_type": "stream",
          "name": "stderr",
          "text": [
            "\r  6%|▌         | 204/3697 [1:14:23<21:34:16, 22.23s/it]"
          ]
        },
        {
          "output_type": "stream",
          "name": "stdout",
          "text": [
            "torch.Size([32, 2660, 2]) \n",
            "\n",
            "torch.Size([32, 5320])\n",
            "torch.Size([32, 5320])\n"
          ]
        },
        {
          "output_type": "stream",
          "name": "stderr",
          "text": [
            "\r  6%|▌         | 205/3697 [1:14:44<21:07:57, 21.79s/it]"
          ]
        },
        {
          "output_type": "stream",
          "name": "stdout",
          "text": [
            "torch.Size([32, 2660, 2]) \n",
            "\n",
            "torch.Size([32, 5320])\n",
            "torch.Size([32, 5320])\n"
          ]
        },
        {
          "output_type": "stream",
          "name": "stderr",
          "text": [
            "\r  6%|▌         | 206/3697 [1:15:06<21:20:21, 22.01s/it]"
          ]
        },
        {
          "output_type": "stream",
          "name": "stdout",
          "text": [
            "torch.Size([32, 2660, 2]) \n",
            "\n",
            "torch.Size([32, 5320])\n",
            "torch.Size([32, 5320])\n"
          ]
        },
        {
          "output_type": "stream",
          "name": "stderr",
          "text": [
            "\r  6%|▌         | 207/3697 [1:15:27<20:57:26, 21.62s/it]"
          ]
        },
        {
          "output_type": "stream",
          "name": "stdout",
          "text": [
            "torch.Size([32, 2660, 2]) \n",
            "\n",
            "torch.Size([32, 5320])\n",
            "torch.Size([32, 5320])\n"
          ]
        },
        {
          "output_type": "stream",
          "name": "stderr",
          "text": [
            "\r  6%|▌         | 208/3697 [1:15:48<20:51:31, 21.52s/it]"
          ]
        },
        {
          "output_type": "stream",
          "name": "stdout",
          "text": [
            "torch.Size([32, 2660, 2]) \n",
            "\n",
            "torch.Size([32, 5320])\n",
            "torch.Size([32, 5320])\n"
          ]
        },
        {
          "output_type": "stream",
          "name": "stderr",
          "text": [
            "\r  6%|▌         | 209/3697 [1:16:09<20:34:57, 21.24s/it]"
          ]
        },
        {
          "output_type": "stream",
          "name": "stdout",
          "text": [
            "torch.Size([32, 2660, 2]) \n",
            "\n",
            "torch.Size([32, 5320])\n",
            "torch.Size([32, 5320])\n"
          ]
        },
        {
          "output_type": "stream",
          "name": "stderr",
          "text": [
            "\r  6%|▌         | 210/3697 [1:16:32<21:03:00, 21.73s/it]"
          ]
        },
        {
          "output_type": "stream",
          "name": "stdout",
          "text": [
            "torch.Size([32, 2660, 2]) \n",
            "\n",
            "torch.Size([32, 5320])\n",
            "torch.Size([32, 5320])\n"
          ]
        },
        {
          "output_type": "stream",
          "name": "stderr",
          "text": [
            "\r  6%|▌         | 211/3697 [1:16:54<21:13:06, 21.91s/it]"
          ]
        },
        {
          "output_type": "stream",
          "name": "stdout",
          "text": [
            "torch.Size([32, 2660, 2]) \n",
            "\n",
            "torch.Size([32, 5320])\n",
            "torch.Size([32, 5320])\n"
          ]
        },
        {
          "output_type": "stream",
          "name": "stderr",
          "text": [
            "\r  6%|▌         | 212/3697 [1:17:14<20:42:54, 21.40s/it]"
          ]
        },
        {
          "output_type": "stream",
          "name": "stdout",
          "text": [
            "torch.Size([32, 2660, 2]) \n",
            "\n",
            "torch.Size([32, 5320])\n",
            "torch.Size([32, 5320])\n"
          ]
        },
        {
          "output_type": "stream",
          "name": "stderr",
          "text": [
            "\r  6%|▌         | 213/3697 [1:17:37<21:12:42, 21.92s/it]"
          ]
        },
        {
          "output_type": "stream",
          "name": "stdout",
          "text": [
            "torch.Size([32, 2660, 2]) \n",
            "\n",
            "torch.Size([32, 5320])\n",
            "torch.Size([32, 5320])\n"
          ]
        },
        {
          "output_type": "stream",
          "name": "stderr",
          "text": [
            "\r  6%|▌         | 214/3697 [1:17:58<20:49:57, 21.53s/it]"
          ]
        },
        {
          "output_type": "stream",
          "name": "stdout",
          "text": [
            "torch.Size([32, 2660, 2]) \n",
            "\n",
            "torch.Size([32, 5320])\n",
            "torch.Size([32, 5320])\n"
          ]
        },
        {
          "output_type": "stream",
          "name": "stderr",
          "text": [
            "\r  6%|▌         | 215/3697 [1:18:20<20:55:47, 21.64s/it]"
          ]
        },
        {
          "output_type": "stream",
          "name": "stdout",
          "text": [
            "torch.Size([32, 2660, 2]) \n",
            "\n",
            "torch.Size([32, 5320])\n",
            "torch.Size([32, 5320])\n"
          ]
        },
        {
          "output_type": "stream",
          "name": "stderr",
          "text": [
            "\r  6%|▌         | 216/3697 [1:18:41<20:52:11, 21.58s/it]"
          ]
        },
        {
          "output_type": "stream",
          "name": "stdout",
          "text": [
            "torch.Size([32, 2660, 2]) \n",
            "\n",
            "torch.Size([32, 5320])\n",
            "torch.Size([32, 5320])\n"
          ]
        },
        {
          "output_type": "stream",
          "name": "stderr",
          "text": [
            "\r  6%|▌         | 217/3697 [1:19:04<21:07:04, 21.85s/it]"
          ]
        },
        {
          "output_type": "stream",
          "name": "stdout",
          "text": [
            "torch.Size([32, 2660, 2]) \n",
            "\n",
            "torch.Size([32, 5320])\n",
            "torch.Size([32, 5320])\n"
          ]
        },
        {
          "output_type": "stream",
          "name": "stderr",
          "text": [
            "\r  6%|▌         | 218/3697 [1:19:26<21:18:44, 22.05s/it]"
          ]
        },
        {
          "output_type": "stream",
          "name": "stdout",
          "text": [
            "torch.Size([32, 2660, 2]) \n",
            "\n",
            "torch.Size([32, 5320])\n",
            "torch.Size([32, 5320])\n"
          ]
        },
        {
          "output_type": "stream",
          "name": "stderr",
          "text": [
            "\r  6%|▌         | 219/3697 [1:19:48<21:12:08, 21.95s/it]"
          ]
        },
        {
          "output_type": "stream",
          "name": "stdout",
          "text": [
            "torch.Size([32, 2660, 2]) \n",
            "\n",
            "torch.Size([32, 5320])\n",
            "torch.Size([32, 5320])\n"
          ]
        },
        {
          "output_type": "stream",
          "name": "stderr",
          "text": [
            "\r  6%|▌         | 220/3697 [1:20:09<21:04:32, 21.82s/it]"
          ]
        },
        {
          "output_type": "stream",
          "name": "stdout",
          "text": [
            "torch.Size([32, 2660, 2]) \n",
            "\n",
            "torch.Size([32, 5320])\n",
            "torch.Size([32, 5320])\n"
          ]
        },
        {
          "output_type": "stream",
          "name": "stderr",
          "text": [
            "\r  6%|▌         | 221/3697 [1:20:30<20:38:39, 21.38s/it]"
          ]
        },
        {
          "output_type": "stream",
          "name": "stdout",
          "text": [
            "torch.Size([32, 2660, 2]) \n",
            "\n",
            "torch.Size([32, 5320])\n",
            "torch.Size([32, 5320])\n"
          ]
        },
        {
          "output_type": "stream",
          "name": "stderr",
          "text": [
            "\r  6%|▌         | 222/3697 [1:20:53<21:04:39, 21.84s/it]"
          ]
        },
        {
          "output_type": "stream",
          "name": "stdout",
          "text": [
            "torch.Size([32, 2660, 2]) \n",
            "\n",
            "torch.Size([32, 5320])\n",
            "torch.Size([32, 5320])\n"
          ]
        },
        {
          "output_type": "stream",
          "name": "stderr",
          "text": [
            "\r  6%|▌         | 223/3697 [1:21:14<20:50:18, 21.59s/it]"
          ]
        },
        {
          "output_type": "stream",
          "name": "stdout",
          "text": [
            "torch.Size([32, 2660, 2]) \n",
            "\n",
            "torch.Size([32, 5320])\n",
            "torch.Size([32, 5320])\n"
          ]
        },
        {
          "output_type": "stream",
          "name": "stderr",
          "text": [
            "\r  6%|▌         | 224/3697 [1:21:40<22:03:42, 22.87s/it]"
          ]
        },
        {
          "output_type": "stream",
          "name": "stdout",
          "text": [
            "torch.Size([32, 2660, 2]) \n",
            "\n",
            "torch.Size([32, 5320])\n",
            "torch.Size([32, 5320])\n"
          ]
        },
        {
          "output_type": "stream",
          "name": "stderr",
          "text": [
            "\r  6%|▌         | 225/3697 [1:22:01<21:35:43, 22.39s/it]"
          ]
        },
        {
          "output_type": "stream",
          "name": "stdout",
          "text": [
            "torch.Size([32, 2660, 2]) \n",
            "\n",
            "torch.Size([32, 5320])\n",
            "torch.Size([32, 5320])\n"
          ]
        },
        {
          "output_type": "stream",
          "name": "stderr",
          "text": [
            "\r  6%|▌         | 226/3697 [1:22:23<21:29:48, 22.30s/it]"
          ]
        },
        {
          "output_type": "stream",
          "name": "stdout",
          "text": [
            "torch.Size([32, 2660, 2]) \n",
            "\n",
            "torch.Size([32, 5320])\n",
            "torch.Size([32, 5320])\n"
          ]
        },
        {
          "output_type": "stream",
          "name": "stderr",
          "text": [
            "\r  6%|▌         | 227/3697 [1:22:44<21:00:25, 21.79s/it]"
          ]
        },
        {
          "output_type": "stream",
          "name": "stdout",
          "text": [
            "torch.Size([32, 2660, 2]) \n",
            "\n",
            "torch.Size([32, 5320])\n",
            "torch.Size([32, 5320])\n"
          ]
        },
        {
          "output_type": "stream",
          "name": "stderr",
          "text": [
            "\r  6%|▌         | 228/3697 [1:23:05<20:46:09, 21.55s/it]"
          ]
        },
        {
          "output_type": "stream",
          "name": "stdout",
          "text": [
            "torch.Size([32, 2660, 2]) \n",
            "\n",
            "torch.Size([32, 5320])\n",
            "torch.Size([32, 5320])\n"
          ]
        },
        {
          "output_type": "stream",
          "name": "stderr",
          "text": [
            "\r  6%|▌         | 229/3697 [1:23:26<20:34:58, 21.37s/it]"
          ]
        },
        {
          "output_type": "stream",
          "name": "stdout",
          "text": [
            "torch.Size([32, 2660, 2]) \n",
            "\n",
            "torch.Size([32, 5320])\n",
            "torch.Size([32, 5320])\n"
          ]
        },
        {
          "output_type": "stream",
          "name": "stderr",
          "text": [
            "\r  6%|▌         | 230/3697 [1:23:47<20:36:17, 21.40s/it]"
          ]
        },
        {
          "output_type": "stream",
          "name": "stdout",
          "text": [
            "torch.Size([32, 2660, 2]) \n",
            "\n",
            "torch.Size([32, 5320])\n",
            "torch.Size([32, 5320])\n"
          ]
        },
        {
          "output_type": "stream",
          "name": "stderr",
          "text": [
            "\r  6%|▌         | 231/3697 [1:24:09<20:46:55, 21.59s/it]"
          ]
        },
        {
          "output_type": "stream",
          "name": "stdout",
          "text": [
            "torch.Size([32, 2660, 2]) \n",
            "\n",
            "torch.Size([32, 5320])\n",
            "torch.Size([32, 5320])\n"
          ]
        },
        {
          "output_type": "stream",
          "name": "stderr",
          "text": [
            "\r  6%|▋         | 232/3697 [1:24:31<20:54:18, 21.72s/it]"
          ]
        },
        {
          "output_type": "stream",
          "name": "stdout",
          "text": [
            "torch.Size([32, 2660, 2]) \n",
            "\n",
            "torch.Size([32, 5320])\n",
            "torch.Size([32, 5320])\n"
          ]
        },
        {
          "output_type": "stream",
          "name": "stderr",
          "text": [
            "\r  6%|▋         | 233/3697 [1:24:53<20:54:28, 21.73s/it]"
          ]
        },
        {
          "output_type": "stream",
          "name": "stdout",
          "text": [
            "torch.Size([32, 2660, 2]) \n",
            "\n",
            "torch.Size([32, 5320])\n",
            "torch.Size([32, 5320])\n"
          ]
        },
        {
          "output_type": "stream",
          "name": "stderr",
          "text": [
            "\r  6%|▋         | 234/3697 [1:25:13<20:34:28, 21.39s/it]"
          ]
        },
        {
          "output_type": "stream",
          "name": "stdout",
          "text": [
            "torch.Size([32, 2660, 2]) \n",
            "\n",
            "torch.Size([32, 5320])\n",
            "torch.Size([32, 5320])\n"
          ]
        },
        {
          "output_type": "stream",
          "name": "stderr",
          "text": [
            "\r  6%|▋         | 235/3697 [1:25:36<20:52:48, 21.71s/it]"
          ]
        },
        {
          "output_type": "stream",
          "name": "stdout",
          "text": [
            "torch.Size([32, 2660, 2]) \n",
            "\n",
            "torch.Size([32, 5320])\n",
            "torch.Size([32, 5320])\n"
          ]
        },
        {
          "output_type": "stream",
          "name": "stderr",
          "text": [
            "\r  6%|▋         | 236/3697 [1:25:57<20:37:12, 21.45s/it]"
          ]
        },
        {
          "output_type": "stream",
          "name": "stdout",
          "text": [
            "torch.Size([32, 2660, 2]) \n",
            "\n",
            "torch.Size([32, 5320])\n",
            "torch.Size([32, 5320])\n"
          ]
        },
        {
          "output_type": "stream",
          "name": "stderr",
          "text": [
            "\r  6%|▋         | 237/3697 [1:26:19<20:51:20, 21.70s/it]"
          ]
        },
        {
          "output_type": "stream",
          "name": "stdout",
          "text": [
            "torch.Size([32, 2660, 2]) \n",
            "\n",
            "torch.Size([32, 5320])\n",
            "torch.Size([32, 5320])\n"
          ]
        },
        {
          "output_type": "stream",
          "name": "stderr",
          "text": [
            "\r  6%|▋         | 238/3697 [1:26:42<21:08:50, 22.01s/it]"
          ]
        },
        {
          "output_type": "stream",
          "name": "stdout",
          "text": [
            "torch.Size([32, 2660, 2]) \n",
            "\n",
            "torch.Size([32, 5320])\n",
            "torch.Size([32, 5320])\n"
          ]
        },
        {
          "output_type": "stream",
          "name": "stderr",
          "text": [
            "\r  6%|▋         | 239/3697 [1:27:03<21:01:01, 21.88s/it]"
          ]
        },
        {
          "output_type": "stream",
          "name": "stdout",
          "text": [
            "torch.Size([32, 2660, 2]) \n",
            "\n",
            "torch.Size([32, 5320])\n",
            "torch.Size([32, 5320])\n"
          ]
        },
        {
          "output_type": "stream",
          "name": "stderr",
          "text": [
            "\r  6%|▋         | 240/3697 [1:27:25<21:05:05, 21.96s/it]"
          ]
        },
        {
          "output_type": "stream",
          "name": "stdout",
          "text": [
            "torch.Size([32, 2660, 2]) \n",
            "\n",
            "torch.Size([32, 5320])\n",
            "torch.Size([32, 5320])\n"
          ]
        },
        {
          "output_type": "stream",
          "name": "stderr",
          "text": [
            "\r  7%|▋         | 241/3697 [1:27:46<20:48:31, 21.68s/it]"
          ]
        },
        {
          "output_type": "stream",
          "name": "stdout",
          "text": [
            "torch.Size([32, 2660, 2]) \n",
            "\n",
            "torch.Size([32, 5320])\n",
            "torch.Size([32, 5320])\n"
          ]
        },
        {
          "output_type": "stream",
          "name": "stderr",
          "text": [
            "\r  7%|▋         | 242/3697 [1:28:08<20:45:56, 21.64s/it]"
          ]
        },
        {
          "output_type": "stream",
          "name": "stdout",
          "text": [
            "torch.Size([32, 2660, 2]) \n",
            "\n",
            "torch.Size([32, 5320])\n",
            "torch.Size([32, 5320])\n"
          ]
        },
        {
          "output_type": "stream",
          "name": "stderr",
          "text": [
            "\r  7%|▋         | 243/3697 [1:28:30<21:00:23, 21.89s/it]"
          ]
        },
        {
          "output_type": "stream",
          "name": "stdout",
          "text": [
            "torch.Size([32, 2660, 2]) \n",
            "\n",
            "torch.Size([32, 5320])\n",
            "torch.Size([32, 5320])\n"
          ]
        },
        {
          "output_type": "stream",
          "name": "stderr",
          "text": [
            "\r  7%|▋         | 244/3697 [1:28:51<20:34:34, 21.45s/it]"
          ]
        },
        {
          "output_type": "stream",
          "name": "stdout",
          "text": [
            "torch.Size([32, 2660, 2]) \n",
            "\n",
            "torch.Size([32, 5320])\n"
          ]
        }
      ],
      "source": [
        "import torch.optim as optim\n",
        "\n",
        "criterion = nn.MSELoss(reduction='none')\n",
        "optimizer = optim.Adam(model.parameters(), lr=learning_rate)\n",
        "\n",
        "# Training loop\n",
        "for epoch in range(num_epochs):\n",
        "    model.train()\n",
        "    running_loss = 0.0\n",
        "    total_samples = 0\n",
        "    for batch_idx, (images, keypoints) in enumerate(tqdm(train_loader)):\n",
        "        images = images.to(device)\n",
        "        keypoints = keypoints.to(device)\n",
        "\n",
        "        keypoints = keypoints[:, :, :2]\n",
        "        print(keypoints.shape, '\\n')\n",
        "\n",
        "        # keypoints = keypoints.view(images.size(0), -1)  # Flatten to [batch_size, 238 * 2]\n",
        "        keypoints = keypoints.reshape(images.size(0), -1)\n",
        "\n",
        "        output = model(images)\n",
        "\n",
        "        mask = (keypoints != -1).float()\n",
        "        loss = criterion(output, keypoints)\n",
        "        masked_loss = loss * mask\n",
        "        loss = masked_loss.sum() / mask.sum()\n",
        "\n",
        "        optimizer.zero_grad()\n",
        "        loss.backward()\n",
        "        optimizer.step()\n",
        "\n",
        "\n",
        "        running_loss += loss.item() * images.size(0)\n",
        "        total_samples += images.size(0)\n",
        "\n",
        "\n",
        "    avg_loss = running_loss / total_samples\n",
        "    print(f\"Epoch [{epoch+1}/{num_epochs}], Loss: {avg_loss:.4f}\")"
      ]
    }
  ],
  "metadata": {
    "colab": {
      "provenance": [],
      "authorship_tag": "ABX9TyMRdPaWdq2tu5CLrqphvDDe",
      "include_colab_link": true
    },
    "kernelspec": {
      "display_name": "Python 3",
      "name": "python3"
    },
    "language_info": {
      "name": "python"
    }
  },
  "nbformat": 4,
  "nbformat_minor": 0
}